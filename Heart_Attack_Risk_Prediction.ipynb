{
  "cells": [
    {
      "cell_type": "code",
      "execution_count": null,
      "metadata": {
        "colab": {
          "base_uri": "https://localhost:8080/"
        },
        "id": "g58OJ03xcKbF",
        "outputId": "ebbeafd4-c66f-41e2-945a-b7124d23cba2",
        "vscode": {
          "languageId": "r"
        }
      },
      "outputs": [
        {
          "name": "stderr",
          "output_type": "stream",
          "text": [
            "Installing package into ‘/usr/local/lib/R/site-library’\n",
            "(as ‘lib’ is unspecified)\n",
            "\n",
            "Installing package into ‘/usr/local/lib/R/site-library’\n",
            "(as ‘lib’ is unspecified)\n",
            "\n",
            "also installing the dependencies ‘listenv’, ‘parallelly’, ‘future’, ‘globals’, ‘shape’, ‘future.apply’, ‘numDeriv’, ‘progressr’, ‘SQUAREM’, ‘diagram’, ‘lava’, ‘prodlim’, ‘proxy’, ‘iterators’, ‘Rcpp’, ‘clock’, ‘gower’, ‘hardhat’, ‘ipred’, ‘timeDate’, ‘e1071’, ‘foreach’, ‘ModelMetrics’, ‘plyr’, ‘pROC’, ‘recipes’, ‘reshape2’\n",
            "\n",
            "\n"
          ]
        }
      ],
      "source": [
        "install.packages(c('rpart.plot', 'caret', 'randomForest', 'ROCR', 'xgboost'))"
      ]
    },
    {
      "cell_type": "markdown",
      "metadata": {
        "id": "iW9mkm6-cKbH"
      },
      "source": [
        "-  the data could found on https://www.kaggle.com/datasets/iamsouravbanerjee/heart-attack-prediction-dataset/data"
      ]
    },
    {
      "cell_type": "code",
      "execution_count": null,
      "metadata": {
        "colab": {
          "base_uri": "https://localhost:8080/"
        },
        "id": "h1pwk8XXcKbL",
        "outputId": "144b47e8-85cb-420b-a747-70c1d50e1baa",
        "vscode": {
          "languageId": "r"
        }
      },
      "outputs": [
        {
          "name": "stderr",
          "output_type": "stream",
          "text": [
            "── \u001b[1mAttaching core tidyverse packages\u001b[22m ──────────────────────── tidyverse 2.0.0 ──\n",
            "\u001b[32m✔\u001b[39m \u001b[34mdplyr    \u001b[39m 1.1.4     \u001b[32m✔\u001b[39m \u001b[34mreadr    \u001b[39m 2.1.4\n",
            "\u001b[32m✔\u001b[39m \u001b[34mforcats  \u001b[39m 1.0.0     \u001b[32m✔\u001b[39m \u001b[34mstringr  \u001b[39m 1.5.1\n",
            "\u001b[32m✔\u001b[39m \u001b[34mggplot2  \u001b[39m 3.4.4     \u001b[32m✔\u001b[39m \u001b[34mtibble   \u001b[39m 3.2.1\n",
            "\u001b[32m✔\u001b[39m \u001b[34mlubridate\u001b[39m 1.9.3     \u001b[32m✔\u001b[39m \u001b[34mtidyr    \u001b[39m 1.3.0\n",
            "\u001b[32m✔\u001b[39m \u001b[34mpurrr    \u001b[39m 1.0.2     \n",
            "── \u001b[1mConflicts\u001b[22m ────────────────────────────────────────── tidyverse_conflicts() ──\n",
            "\u001b[31m✖\u001b[39m \u001b[34mdplyr\u001b[39m::\u001b[32mfilter()\u001b[39m masks \u001b[34mstats\u001b[39m::filter()\n",
            "\u001b[31m✖\u001b[39m \u001b[34mdplyr\u001b[39m::\u001b[32mlag()\u001b[39m    masks \u001b[34mstats\u001b[39m::lag()\n",
            "\u001b[36mℹ\u001b[39m Use the conflicted package (\u001b[3m\u001b[34m<http://conflicted.r-lib.org/>\u001b[39m\u001b[23m) to force all conflicts to become errors\n",
            "\n",
            "Attaching package: ‘xgboost’\n",
            "\n",
            "\n",
            "The following object is masked from ‘package:dplyr’:\n",
            "\n",
            "    slice\n",
            "\n",
            "\n",
            "Loading required package: lattice\n",
            "\n",
            "\n",
            "Attaching package: ‘caret’\n",
            "\n",
            "\n",
            "The following object is masked from ‘package:purrr’:\n",
            "\n",
            "    lift\n",
            "\n",
            "\n",
            "randomForest 4.7-1.1\n",
            "\n",
            "Type rfNews() to see new features/changes/bug fixes.\n",
            "\n",
            "\n",
            "Attaching package: ‘randomForest’\n",
            "\n",
            "\n",
            "The following object is masked from ‘package:dplyr’:\n",
            "\n",
            "    combine\n",
            "\n",
            "\n",
            "The following object is masked from ‘package:ggplot2’:\n",
            "\n",
            "    margin\n",
            "\n",
            "\n"
          ]
        }
      ],
      "source": [
        "library(tidyverse)\n",
        "\n",
        "library(ROCR)\n",
        "library(xgboost)\n",
        "library(rpart)\n",
        "library(rpart.plot)\n",
        "library(caret)\n",
        "library(ggplot2)\n",
        "library(randomForest)\n",
        "library(dplyr)\n"
      ]
    },
    {
      "cell_type": "code",
      "execution_count": null,
      "metadata": {
        "colab": {
          "base_uri": "https://localhost:8080/",
          "height": 784
        },
        "id": "0Jnca-7ucKbO",
        "outputId": "2735c1ae-00fd-4c7b-ddd4-0269eaa9a20d",
        "vscode": {
          "languageId": "r"
        }
      },
      "outputs": [
        {
          "data": {
            "text/html": [
              "<table class=\"dataframe\">\n",
              "<caption>A data.frame: 6 × 26</caption>\n",
              "<thead>\n",
              "\t<tr><th></th><th scope=col>Patient.ID</th><th scope=col>Age</th><th scope=col>Sex</th><th scope=col>Cholesterol</th><th scope=col>Blood.Pressure</th><th scope=col>Heart.Rate</th><th scope=col>Diabetes</th><th scope=col>Family.History</th><th scope=col>Smoking</th><th scope=col>Obesity</th><th scope=col>⋯</th><th scope=col>Sedentary.Hours.Per.Day</th><th scope=col>Income</th><th scope=col>BMI</th><th scope=col>Triglycerides</th><th scope=col>Physical.Activity.Days.Per.Week</th><th scope=col>Sleep.Hours.Per.Day</th><th scope=col>Country</th><th scope=col>Continent</th><th scope=col>Hemisphere</th><th scope=col>Heart.Attack.Risk</th></tr>\n",
              "\t<tr><th></th><th scope=col>&lt;chr&gt;</th><th scope=col>&lt;int&gt;</th><th scope=col>&lt;chr&gt;</th><th scope=col>&lt;int&gt;</th><th scope=col>&lt;chr&gt;</th><th scope=col>&lt;int&gt;</th><th scope=col>&lt;int&gt;</th><th scope=col>&lt;int&gt;</th><th scope=col>&lt;int&gt;</th><th scope=col>&lt;int&gt;</th><th scope=col>⋯</th><th scope=col>&lt;dbl&gt;</th><th scope=col>&lt;int&gt;</th><th scope=col>&lt;dbl&gt;</th><th scope=col>&lt;int&gt;</th><th scope=col>&lt;int&gt;</th><th scope=col>&lt;int&gt;</th><th scope=col>&lt;chr&gt;</th><th scope=col>&lt;chr&gt;</th><th scope=col>&lt;chr&gt;</th><th scope=col>&lt;int&gt;</th></tr>\n",
              "</thead>\n",
              "<tbody>\n",
              "\t<tr><th scope=row>1</th><td>BMW7812</td><td>67</td><td>Male  </td><td>208</td><td>158/88 </td><td>72</td><td>0</td><td>0</td><td>1</td><td>0</td><td>⋯</td><td>6.615001</td><td>261404</td><td>31.25123</td><td>286</td><td>0</td><td> 6</td><td>Argentina</td><td>South America</td><td>Southern Hemisphere</td><td>0</td></tr>\n",
              "\t<tr><th scope=row>2</th><td>CZE1114</td><td>21</td><td>Male  </td><td>389</td><td>165/93 </td><td>98</td><td>1</td><td>1</td><td>1</td><td>1</td><td>⋯</td><td>4.963459</td><td>285768</td><td>27.19497</td><td>235</td><td>1</td><td> 7</td><td>Canada   </td><td>North America</td><td>Northern Hemisphere</td><td>0</td></tr>\n",
              "\t<tr><th scope=row>3</th><td>BNI9906</td><td>21</td><td>Female</td><td>324</td><td>174/99 </td><td>72</td><td>1</td><td>0</td><td>0</td><td>0</td><td>⋯</td><td>9.463426</td><td>235282</td><td>28.17657</td><td>587</td><td>4</td><td> 4</td><td>France   </td><td>Europe       </td><td>Northern Hemisphere</td><td>0</td></tr>\n",
              "\t<tr><th scope=row>4</th><td>JLN3497</td><td>84</td><td>Male  </td><td>383</td><td>163/100</td><td>73</td><td>1</td><td>1</td><td>1</td><td>0</td><td>⋯</td><td>7.648981</td><td>125640</td><td>36.46470</td><td>378</td><td>3</td><td> 4</td><td>Canada   </td><td>North America</td><td>Northern Hemisphere</td><td>0</td></tr>\n",
              "\t<tr><th scope=row>5</th><td>GFO8847</td><td>66</td><td>Male  </td><td>318</td><td>91/88  </td><td>93</td><td>1</td><td>1</td><td>1</td><td>1</td><td>⋯</td><td>1.514821</td><td>160555</td><td>21.80914</td><td>231</td><td>1</td><td> 5</td><td>Thailand </td><td>Asia         </td><td>Northern Hemisphere</td><td>0</td></tr>\n",
              "\t<tr><th scope=row>6</th><td>ZOO7941</td><td>54</td><td>Female</td><td>297</td><td>172/86 </td><td>48</td><td>1</td><td>1</td><td>1</td><td>0</td><td>⋯</td><td>7.798752</td><td>241339</td><td>20.14684</td><td>795</td><td>5</td><td>10</td><td>Germany  </td><td>Europe       </td><td>Northern Hemisphere</td><td>1</td></tr>\n",
              "</tbody>\n",
              "</table>\n"
            ],
            "text/latex": [
              "A data.frame: 6 × 26\n",
              "\\begin{tabular}{r|lllllllllllllllllllll}\n",
              "  & Patient.ID & Age & Sex & Cholesterol & Blood.Pressure & Heart.Rate & Diabetes & Family.History & Smoking & Obesity & ⋯ & Sedentary.Hours.Per.Day & Income & BMI & Triglycerides & Physical.Activity.Days.Per.Week & Sleep.Hours.Per.Day & Country & Continent & Hemisphere & Heart.Attack.Risk\\\\\n",
              "  & <chr> & <int> & <chr> & <int> & <chr> & <int> & <int> & <int> & <int> & <int> & ⋯ & <dbl> & <int> & <dbl> & <int> & <int> & <int> & <chr> & <chr> & <chr> & <int>\\\\\n",
              "\\hline\n",
              "\t1 & BMW7812 & 67 & Male   & 208 & 158/88  & 72 & 0 & 0 & 1 & 0 & ⋯ & 6.615001 & 261404 & 31.25123 & 286 & 0 &  6 & Argentina & South America & Southern Hemisphere & 0\\\\\n",
              "\t2 & CZE1114 & 21 & Male   & 389 & 165/93  & 98 & 1 & 1 & 1 & 1 & ⋯ & 4.963459 & 285768 & 27.19497 & 235 & 1 &  7 & Canada    & North America & Northern Hemisphere & 0\\\\\n",
              "\t3 & BNI9906 & 21 & Female & 324 & 174/99  & 72 & 1 & 0 & 0 & 0 & ⋯ & 9.463426 & 235282 & 28.17657 & 587 & 4 &  4 & France    & Europe        & Northern Hemisphere & 0\\\\\n",
              "\t4 & JLN3497 & 84 & Male   & 383 & 163/100 & 73 & 1 & 1 & 1 & 0 & ⋯ & 7.648981 & 125640 & 36.46470 & 378 & 3 &  4 & Canada    & North America & Northern Hemisphere & 0\\\\\n",
              "\t5 & GFO8847 & 66 & Male   & 318 & 91/88   & 93 & 1 & 1 & 1 & 1 & ⋯ & 1.514821 & 160555 & 21.80914 & 231 & 1 &  5 & Thailand  & Asia          & Northern Hemisphere & 0\\\\\n",
              "\t6 & ZOO7941 & 54 & Female & 297 & 172/86  & 48 & 1 & 1 & 1 & 0 & ⋯ & 7.798752 & 241339 & 20.14684 & 795 & 5 & 10 & Germany   & Europe        & Northern Hemisphere & 1\\\\\n",
              "\\end{tabular}\n"
            ],
            "text/markdown": [
              "\n",
              "A data.frame: 6 × 26\n",
              "\n",
              "| <!--/--> | Patient.ID &lt;chr&gt; | Age &lt;int&gt; | Sex &lt;chr&gt; | Cholesterol &lt;int&gt; | Blood.Pressure &lt;chr&gt; | Heart.Rate &lt;int&gt; | Diabetes &lt;int&gt; | Family.History &lt;int&gt; | Smoking &lt;int&gt; | Obesity &lt;int&gt; | ⋯ ⋯ | Sedentary.Hours.Per.Day &lt;dbl&gt; | Income &lt;int&gt; | BMI &lt;dbl&gt; | Triglycerides &lt;int&gt; | Physical.Activity.Days.Per.Week &lt;int&gt; | Sleep.Hours.Per.Day &lt;int&gt; | Country &lt;chr&gt; | Continent &lt;chr&gt; | Hemisphere &lt;chr&gt; | Heart.Attack.Risk &lt;int&gt; |\n",
              "|---|---|---|---|---|---|---|---|---|---|---|---|---|---|---|---|---|---|---|---|---|---|\n",
              "| 1 | BMW7812 | 67 | Male   | 208 | 158/88  | 72 | 0 | 0 | 1 | 0 | ⋯ | 6.615001 | 261404 | 31.25123 | 286 | 0 |  6 | Argentina | South America | Southern Hemisphere | 0 |\n",
              "| 2 | CZE1114 | 21 | Male   | 389 | 165/93  | 98 | 1 | 1 | 1 | 1 | ⋯ | 4.963459 | 285768 | 27.19497 | 235 | 1 |  7 | Canada    | North America | Northern Hemisphere | 0 |\n",
              "| 3 | BNI9906 | 21 | Female | 324 | 174/99  | 72 | 1 | 0 | 0 | 0 | ⋯ | 9.463426 | 235282 | 28.17657 | 587 | 4 |  4 | France    | Europe        | Northern Hemisphere | 0 |\n",
              "| 4 | JLN3497 | 84 | Male   | 383 | 163/100 | 73 | 1 | 1 | 1 | 0 | ⋯ | 7.648981 | 125640 | 36.46470 | 378 | 3 |  4 | Canada    | North America | Northern Hemisphere | 0 |\n",
              "| 5 | GFO8847 | 66 | Male   | 318 | 91/88   | 93 | 1 | 1 | 1 | 1 | ⋯ | 1.514821 | 160555 | 21.80914 | 231 | 1 |  5 | Thailand  | Asia          | Northern Hemisphere | 0 |\n",
              "| 6 | ZOO7941 | 54 | Female | 297 | 172/86  | 48 | 1 | 1 | 1 | 0 | ⋯ | 7.798752 | 241339 | 20.14684 | 795 | 5 | 10 | Germany   | Europe        | Northern Hemisphere | 1 |\n",
              "\n"
            ],
            "text/plain": [
              "  Patient.ID Age Sex    Cholesterol Blood.Pressure Heart.Rate Diabetes\n",
              "1 BMW7812    67  Male   208         158/88         72         0       \n",
              "2 CZE1114    21  Male   389         165/93         98         1       \n",
              "3 BNI9906    21  Female 324         174/99         72         1       \n",
              "4 JLN3497    84  Male   383         163/100        73         1       \n",
              "5 GFO8847    66  Male   318         91/88          93         1       \n",
              "6 ZOO7941    54  Female 297         172/86         48         1       \n",
              "  Family.History Smoking Obesity ⋯ Sedentary.Hours.Per.Day Income BMI     \n",
              "1 0              1       0       ⋯ 6.615001                261404 31.25123\n",
              "2 1              1       1       ⋯ 4.963459                285768 27.19497\n",
              "3 0              0       0       ⋯ 9.463426                235282 28.17657\n",
              "4 1              1       0       ⋯ 7.648981                125640 36.46470\n",
              "5 1              1       1       ⋯ 1.514821                160555 21.80914\n",
              "6 1              1       0       ⋯ 7.798752                241339 20.14684\n",
              "  Triglycerides Physical.Activity.Days.Per.Week Sleep.Hours.Per.Day Country  \n",
              "1 286           0                                6                  Argentina\n",
              "2 235           1                                7                  Canada   \n",
              "3 587           4                                4                  France   \n",
              "4 378           3                                4                  Canada   \n",
              "5 231           1                                5                  Thailand \n",
              "6 795           5                               10                  Germany  \n",
              "  Continent     Hemisphere          Heart.Attack.Risk\n",
              "1 South America Southern Hemisphere 0                \n",
              "2 North America Northern Hemisphere 0                \n",
              "3 Europe        Northern Hemisphere 0                \n",
              "4 North America Northern Hemisphere 0                \n",
              "5 Asia          Northern Hemisphere 0                \n",
              "6 Europe        Northern Hemisphere 1                "
            ]
          },
          "metadata": {},
          "output_type": "display_data"
        },
        {
          "data": {
            "text/html": [
              "<table class=\"dataframe\">\n",
              "<caption>A data.frame: 6 × 26</caption>\n",
              "<thead>\n",
              "\t<tr><th></th><th scope=col>Patient.ID</th><th scope=col>Age</th><th scope=col>Sex</th><th scope=col>Cholesterol</th><th scope=col>Blood.Pressure</th><th scope=col>Heart.Rate</th><th scope=col>Diabetes</th><th scope=col>Family.History</th><th scope=col>Smoking</th><th scope=col>Obesity</th><th scope=col>⋯</th><th scope=col>Sedentary.Hours.Per.Day</th><th scope=col>Income</th><th scope=col>BMI</th><th scope=col>Triglycerides</th><th scope=col>Physical.Activity.Days.Per.Week</th><th scope=col>Sleep.Hours.Per.Day</th><th scope=col>Country</th><th scope=col>Continent</th><th scope=col>Hemisphere</th><th scope=col>Heart.Attack.Risk</th></tr>\n",
              "\t<tr><th></th><th scope=col>&lt;chr&gt;</th><th scope=col>&lt;int&gt;</th><th scope=col>&lt;chr&gt;</th><th scope=col>&lt;int&gt;</th><th scope=col>&lt;chr&gt;</th><th scope=col>&lt;int&gt;</th><th scope=col>&lt;int&gt;</th><th scope=col>&lt;int&gt;</th><th scope=col>&lt;int&gt;</th><th scope=col>&lt;int&gt;</th><th scope=col>⋯</th><th scope=col>&lt;dbl&gt;</th><th scope=col>&lt;int&gt;</th><th scope=col>&lt;dbl&gt;</th><th scope=col>&lt;int&gt;</th><th scope=col>&lt;int&gt;</th><th scope=col>&lt;int&gt;</th><th scope=col>&lt;chr&gt;</th><th scope=col>&lt;chr&gt;</th><th scope=col>&lt;chr&gt;</th><th scope=col>&lt;int&gt;</th></tr>\n",
              "</thead>\n",
              "<tbody>\n",
              "\t<tr><th scope=row>8758</th><td>YDX2478</td><td>59</td><td>Female</td><td>378</td><td>93/78  </td><td> 99</td><td>0</td><td>1</td><td>1</td><td>1</td><td>⋯</td><td> 7.49523056</td><td> 70415</td><td>39.97606</td><td>158</td><td>1</td><td>9</td><td>China         </td><td>Asia         </td><td>Northern Hemisphere</td><td>0</td></tr>\n",
              "\t<tr><th scope=row>8759</th><td>MSV9918</td><td>60</td><td>Male  </td><td>121</td><td>94/76  </td><td> 61</td><td>1</td><td>1</td><td>1</td><td>0</td><td>⋯</td><td>10.80637321</td><td>235420</td><td>19.65589</td><td> 67</td><td>7</td><td>7</td><td>Thailand      </td><td>Asia         </td><td>Northern Hemisphere</td><td>0</td></tr>\n",
              "\t<tr><th scope=row>8760</th><td>QSV6764</td><td>28</td><td>Female</td><td>120</td><td>157/102</td><td> 73</td><td>1</td><td>0</td><td>0</td><td>1</td><td>⋯</td><td> 3.83303806</td><td>217881</td><td>23.99387</td><td>617</td><td>4</td><td>9</td><td>Canada        </td><td>North America</td><td>Northern Hemisphere</td><td>0</td></tr>\n",
              "\t<tr><th scope=row>8761</th><td>XKA5925</td><td>47</td><td>Male  </td><td>250</td><td>161/75 </td><td>105</td><td>0</td><td>1</td><td>1</td><td>1</td><td>⋯</td><td> 2.37521373</td><td> 36998</td><td>35.40615</td><td>527</td><td>4</td><td>4</td><td>Brazil        </td><td>South America</td><td>Southern Hemisphere</td><td>1</td></tr>\n",
              "\t<tr><th scope=row>8762</th><td>EPE6801</td><td>36</td><td>Male  </td><td>178</td><td>119/67 </td><td> 60</td><td>1</td><td>0</td><td>1</td><td>0</td><td>⋯</td><td> 0.02910426</td><td>209943</td><td>27.29402</td><td>114</td><td>2</td><td>8</td><td>Brazil        </td><td>South America</td><td>Southern Hemisphere</td><td>0</td></tr>\n",
              "\t<tr><th scope=row>8763</th><td>ZWN9666</td><td>25</td><td>Female</td><td>356</td><td>138/67 </td><td> 75</td><td>1</td><td>1</td><td>0</td><td>0</td><td>⋯</td><td> 9.00523438</td><td>247338</td><td>32.91415</td><td>180</td><td>7</td><td>4</td><td>United Kingdom</td><td>Europe       </td><td>Northern Hemisphere</td><td>1</td></tr>\n",
              "</tbody>\n",
              "</table>\n"
            ],
            "text/latex": [
              "A data.frame: 6 × 26\n",
              "\\begin{tabular}{r|lllllllllllllllllllll}\n",
              "  & Patient.ID & Age & Sex & Cholesterol & Blood.Pressure & Heart.Rate & Diabetes & Family.History & Smoking & Obesity & ⋯ & Sedentary.Hours.Per.Day & Income & BMI & Triglycerides & Physical.Activity.Days.Per.Week & Sleep.Hours.Per.Day & Country & Continent & Hemisphere & Heart.Attack.Risk\\\\\n",
              "  & <chr> & <int> & <chr> & <int> & <chr> & <int> & <int> & <int> & <int> & <int> & ⋯ & <dbl> & <int> & <dbl> & <int> & <int> & <int> & <chr> & <chr> & <chr> & <int>\\\\\n",
              "\\hline\n",
              "\t8758 & YDX2478 & 59 & Female & 378 & 93/78   &  99 & 0 & 1 & 1 & 1 & ⋯ &  7.49523056 &  70415 & 39.97606 & 158 & 1 & 9 & China          & Asia          & Northern Hemisphere & 0\\\\\n",
              "\t8759 & MSV9918 & 60 & Male   & 121 & 94/76   &  61 & 1 & 1 & 1 & 0 & ⋯ & 10.80637321 & 235420 & 19.65589 &  67 & 7 & 7 & Thailand       & Asia          & Northern Hemisphere & 0\\\\\n",
              "\t8760 & QSV6764 & 28 & Female & 120 & 157/102 &  73 & 1 & 0 & 0 & 1 & ⋯ &  3.83303806 & 217881 & 23.99387 & 617 & 4 & 9 & Canada         & North America & Northern Hemisphere & 0\\\\\n",
              "\t8761 & XKA5925 & 47 & Male   & 250 & 161/75  & 105 & 0 & 1 & 1 & 1 & ⋯ &  2.37521373 &  36998 & 35.40615 & 527 & 4 & 4 & Brazil         & South America & Southern Hemisphere & 1\\\\\n",
              "\t8762 & EPE6801 & 36 & Male   & 178 & 119/67  &  60 & 1 & 0 & 1 & 0 & ⋯ &  0.02910426 & 209943 & 27.29402 & 114 & 2 & 8 & Brazil         & South America & Southern Hemisphere & 0\\\\\n",
              "\t8763 & ZWN9666 & 25 & Female & 356 & 138/67  &  75 & 1 & 1 & 0 & 0 & ⋯ &  9.00523438 & 247338 & 32.91415 & 180 & 7 & 4 & United Kingdom & Europe        & Northern Hemisphere & 1\\\\\n",
              "\\end{tabular}\n"
            ],
            "text/markdown": [
              "\n",
              "A data.frame: 6 × 26\n",
              "\n",
              "| <!--/--> | Patient.ID &lt;chr&gt; | Age &lt;int&gt; | Sex &lt;chr&gt; | Cholesterol &lt;int&gt; | Blood.Pressure &lt;chr&gt; | Heart.Rate &lt;int&gt; | Diabetes &lt;int&gt; | Family.History &lt;int&gt; | Smoking &lt;int&gt; | Obesity &lt;int&gt; | ⋯ ⋯ | Sedentary.Hours.Per.Day &lt;dbl&gt; | Income &lt;int&gt; | BMI &lt;dbl&gt; | Triglycerides &lt;int&gt; | Physical.Activity.Days.Per.Week &lt;int&gt; | Sleep.Hours.Per.Day &lt;int&gt; | Country &lt;chr&gt; | Continent &lt;chr&gt; | Hemisphere &lt;chr&gt; | Heart.Attack.Risk &lt;int&gt; |\n",
              "|---|---|---|---|---|---|---|---|---|---|---|---|---|---|---|---|---|---|---|---|---|---|\n",
              "| 8758 | YDX2478 | 59 | Female | 378 | 93/78   |  99 | 0 | 1 | 1 | 1 | ⋯ |  7.49523056 |  70415 | 39.97606 | 158 | 1 | 9 | China          | Asia          | Northern Hemisphere | 0 |\n",
              "| 8759 | MSV9918 | 60 | Male   | 121 | 94/76   |  61 | 1 | 1 | 1 | 0 | ⋯ | 10.80637321 | 235420 | 19.65589 |  67 | 7 | 7 | Thailand       | Asia          | Northern Hemisphere | 0 |\n",
              "| 8760 | QSV6764 | 28 | Female | 120 | 157/102 |  73 | 1 | 0 | 0 | 1 | ⋯ |  3.83303806 | 217881 | 23.99387 | 617 | 4 | 9 | Canada         | North America | Northern Hemisphere | 0 |\n",
              "| 8761 | XKA5925 | 47 | Male   | 250 | 161/75  | 105 | 0 | 1 | 1 | 1 | ⋯ |  2.37521373 |  36998 | 35.40615 | 527 | 4 | 4 | Brazil         | South America | Southern Hemisphere | 1 |\n",
              "| 8762 | EPE6801 | 36 | Male   | 178 | 119/67  |  60 | 1 | 0 | 1 | 0 | ⋯ |  0.02910426 | 209943 | 27.29402 | 114 | 2 | 8 | Brazil         | South America | Southern Hemisphere | 0 |\n",
              "| 8763 | ZWN9666 | 25 | Female | 356 | 138/67  |  75 | 1 | 1 | 0 | 0 | ⋯ |  9.00523438 | 247338 | 32.91415 | 180 | 7 | 4 | United Kingdom | Europe        | Northern Hemisphere | 1 |\n",
              "\n"
            ],
            "text/plain": [
              "     Patient.ID Age Sex    Cholesterol Blood.Pressure Heart.Rate Diabetes\n",
              "8758 YDX2478    59  Female 378         93/78           99        0       \n",
              "8759 MSV9918    60  Male   121         94/76           61        1       \n",
              "8760 QSV6764    28  Female 120         157/102         73        1       \n",
              "8761 XKA5925    47  Male   250         161/75         105        0       \n",
              "8762 EPE6801    36  Male   178         119/67          60        1       \n",
              "8763 ZWN9666    25  Female 356         138/67          75        1       \n",
              "     Family.History Smoking Obesity ⋯ Sedentary.Hours.Per.Day Income BMI     \n",
              "8758 1              1       1       ⋯  7.49523056              70415 39.97606\n",
              "8759 1              1       0       ⋯ 10.80637321             235420 19.65589\n",
              "8760 0              0       1       ⋯  3.83303806             217881 23.99387\n",
              "8761 1              1       1       ⋯  2.37521373              36998 35.40615\n",
              "8762 0              1       0       ⋯  0.02910426             209943 27.29402\n",
              "8763 1              0       0       ⋯  9.00523438             247338 32.91415\n",
              "     Triglycerides Physical.Activity.Days.Per.Week Sleep.Hours.Per.Day\n",
              "8758 158           1                               9                  \n",
              "8759  67           7                               7                  \n",
              "8760 617           4                               9                  \n",
              "8761 527           4                               4                  \n",
              "8762 114           2                               8                  \n",
              "8763 180           7                               4                  \n",
              "     Country        Continent     Hemisphere          Heart.Attack.Risk\n",
              "8758 China          Asia          Northern Hemisphere 0                \n",
              "8759 Thailand       Asia          Northern Hemisphere 0                \n",
              "8760 Canada         North America Northern Hemisphere 0                \n",
              "8761 Brazil         South America Southern Hemisphere 1                \n",
              "8762 Brazil         South America Southern Hemisphere 0                \n",
              "8763 United Kingdom Europe        Northern Hemisphere 1                "
            ]
          },
          "metadata": {},
          "output_type": "display_data"
        }
      ],
      "source": [
        "#loadind data\n",
        "heart_risk <- read.csv(\"heart_attack_prediction_dataset.csv\", header = TRUE, na.strings = c(\"\"))\n",
        "head(heart_risk)\n",
        "tail(heart_risk)\n"
      ]
    },
    {
      "cell_type": "code",
      "execution_count": null,
      "metadata": {
        "colab": {
          "base_uri": "https://localhost:8080/",
          "height": 867
        },
        "id": "73OoAQBJcKbP",
        "outputId": "f6c10f00-ec93-4fb3-c854-62ba8939c0c1",
        "vscode": {
          "languageId": "r"
        }
      },
      "outputs": [
        {
          "data": {
            "text/plain": [
              "  Patient.ID             Age            Sex             Cholesterol   \n",
              " Length:8763        Min.   :18.00   Length:8763        Min.   :120.0  \n",
              " Class :character   1st Qu.:35.00   Class :character   1st Qu.:192.0  \n",
              " Mode  :character   Median :54.00   Mode  :character   Median :259.0  \n",
              "                    Mean   :53.71                      Mean   :259.9  \n",
              "                    3rd Qu.:72.00                      3rd Qu.:330.0  \n",
              "                    Max.   :90.00                      Max.   :400.0  \n",
              " Blood.Pressure       Heart.Rate        Diabetes      Family.History \n",
              " Length:8763        Min.   : 40.00   Min.   :0.0000   Min.   :0.000  \n",
              " Class :character   1st Qu.: 57.00   1st Qu.:0.0000   1st Qu.:0.000  \n",
              " Mode  :character   Median : 75.00   Median :1.0000   Median :0.000  \n",
              "                    Mean   : 75.02   Mean   :0.6523   Mean   :0.493  \n",
              "                    3rd Qu.: 93.00   3rd Qu.:1.0000   3rd Qu.:1.000  \n",
              "                    Max.   :110.00   Max.   :1.0000   Max.   :1.000  \n",
              "    Smoking          Obesity       Alcohol.Consumption Exercise.Hours.Per.Week\n",
              " Min.   :0.0000   Min.   :0.0000   Min.   :0.0000      Min.   : 0.002442      \n",
              " 1st Qu.:1.0000   1st Qu.:0.0000   1st Qu.:0.0000      1st Qu.: 4.981579      \n",
              " Median :1.0000   Median :1.0000   Median :1.0000      Median :10.069559      \n",
              " Mean   :0.8968   Mean   :0.5014   Mean   :0.5981      Mean   :10.014284      \n",
              " 3rd Qu.:1.0000   3rd Qu.:1.0000   3rd Qu.:1.0000      3rd Qu.:15.050018      \n",
              " Max.   :1.0000   Max.   :1.0000   Max.   :1.0000      Max.   :19.998709      \n",
              "     Diet           Previous.Heart.Problems Medication.Use    Stress.Level  \n",
              " Length:8763        Min.   :0.0000          Min.   :0.0000   Min.   : 1.00  \n",
              " Class :character   1st Qu.:0.0000          1st Qu.:0.0000   1st Qu.: 3.00  \n",
              " Mode  :character   Median :0.0000          Median :0.0000   Median : 5.00  \n",
              "                    Mean   :0.4958          Mean   :0.4983   Mean   : 5.47  \n",
              "                    3rd Qu.:1.0000          3rd Qu.:1.0000   3rd Qu.: 8.00  \n",
              "                    Max.   :1.0000          Max.   :1.0000   Max.   :10.00  \n",
              " Sedentary.Hours.Per.Day     Income            BMI        Triglycerides  \n",
              " Min.   : 0.001263       Min.   : 20062   Min.   :18.00   Min.   : 30.0  \n",
              " 1st Qu.: 2.998794       1st Qu.: 88310   1st Qu.:23.42   1st Qu.:225.5  \n",
              " Median : 5.933622       Median :157866   Median :28.77   Median :417.0  \n",
              " Mean   : 5.993690       Mean   :158263   Mean   :28.89   Mean   :417.7  \n",
              " 3rd Qu.: 9.019124       3rd Qu.:227749   3rd Qu.:34.32   3rd Qu.:612.0  \n",
              " Max.   :11.999313       Max.   :299954   Max.   :40.00   Max.   :800.0  \n",
              " Physical.Activity.Days.Per.Week Sleep.Hours.Per.Day   Country         \n",
              " Min.   :0.00                    Min.   : 4.000      Length:8763       \n",
              " 1st Qu.:2.00                    1st Qu.: 5.000      Class :character  \n",
              " Median :3.00                    Median : 7.000      Mode  :character  \n",
              " Mean   :3.49                    Mean   : 7.024                        \n",
              " 3rd Qu.:5.00                    3rd Qu.: 9.000                        \n",
              " Max.   :7.00                    Max.   :10.000                        \n",
              "  Continent          Hemisphere        Heart.Attack.Risk\n",
              " Length:8763        Length:8763        Min.   :0.0000   \n",
              " Class :character   Class :character   1st Qu.:0.0000   \n",
              " Mode  :character   Mode  :character   Median :0.0000   \n",
              "                                       Mean   :0.3582   \n",
              "                                       3rd Qu.:1.0000   \n",
              "                                       Max.   :1.0000   "
            ]
          },
          "metadata": {},
          "output_type": "display_data"
        }
      ],
      "source": [
        "#summary gives information about data distribution of numeric values(mean(avg),1Q(25%),3Q(75%),Median(50%), min and max(range)), and length of chr data\n",
        "#there is no NAs or missing value here\n",
        "summary(heart_risk)\n"
      ]
    },
    {
      "cell_type": "code",
      "execution_count": null,
      "metadata": {
        "colab": {
          "base_uri": "https://localhost:8080/",
          "height": 538
        },
        "id": "djW2tGv2cKbP",
        "outputId": "8e3e54f3-90cd-4af7-9123-f7fea3eaeba5",
        "vscode": {
          "languageId": "r"
        }
      },
      "outputs": [
        {
          "name": "stdout",
          "output_type": "stream",
          "text": [
            "'data.frame':\t8763 obs. of  26 variables:\n",
            " $ Patient.ID                     : chr  \"BMW7812\" \"CZE1114\" \"BNI9906\" \"JLN3497\" ...\n",
            " $ Age                            : int  67 21 21 84 66 54 90 84 20 43 ...\n",
            " $ Sex                            : chr  \"Male\" \"Male\" \"Female\" \"Male\" ...\n",
            " $ Cholesterol                    : int  208 389 324 383 318 297 358 220 145 248 ...\n",
            " $ Blood.Pressure                 : chr  \"158/88\" \"165/93\" \"174/99\" \"163/100\" ...\n",
            " $ Heart.Rate                     : int  72 98 72 73 93 48 84 107 68 55 ...\n",
            " $ Diabetes                       : int  0 1 1 1 1 1 0 0 1 0 ...\n",
            " $ Family.History                 : int  0 1 0 1 1 1 0 0 0 1 ...\n",
            " $ Smoking                        : int  1 1 0 1 1 1 1 1 1 1 ...\n",
            " $ Obesity                        : int  0 1 0 0 1 0 0 1 1 1 ...\n",
            " $ Alcohol.Consumption            : int  0 1 0 1 0 1 1 1 0 1 ...\n",
            " $ Exercise.Hours.Per.Week        : num  4.17 1.81 2.08 9.83 5.8 ...\n",
            " $ Diet                           : chr  \"Average\" \"Unhealthy\" \"Healthy\" \"Average\" ...\n",
            " $ Previous.Heart.Problems        : int  0 1 1 1 1 1 0 0 0 0 ...\n",
            " $ Medication.Use                 : int  0 0 1 0 0 1 0 1 0 0 ...\n",
            " $ Stress.Level                   : int  9 1 9 9 6 2 7 4 5 4 ...\n",
            " $ Sedentary.Hours.Per.Day        : num  6.62 4.96 9.46 7.65 1.51 ...\n",
            " $ Income                         : int  261404 285768 235282 125640 160555 241339 190450 122093 25086 209703 ...\n",
            " $ BMI                            : num  31.3 27.2 28.2 36.5 21.8 ...\n",
            " $ Triglycerides                  : int  286 235 587 378 231 795 284 370 790 232 ...\n",
            " $ Physical.Activity.Days.Per.Week: int  0 1 4 3 1 5 4 6 7 7 ...\n",
            " $ Sleep.Hours.Per.Day            : int  6 7 4 4 5 10 10 7 4 7 ...\n",
            " $ Country                        : chr  \"Argentina\" \"Canada\" \"France\" \"Canada\" ...\n",
            " $ Continent                      : chr  \"South America\" \"North America\" \"Europe\" \"North America\" ...\n",
            " $ Hemisphere                     : chr  \"Southern Hemisphere\" \"Northern Hemisphere\" \"Northern Hemisphere\" \"Northern Hemisphere\" ...\n",
            " $ Heart.Attack.Risk              : int  0 0 0 0 0 1 1 1 0 0 ...\n"
          ]
        },
        {
          "data": {
            "text/plain": [
              "\n",
              "   0    1 \n",
              "5624 3139 "
            ]
          },
          "metadata": {},
          "output_type": "display_data"
        }
      ],
      "source": [
        "#see the data types, number of rows and columns, and a brief number of data points. it is useful for data preprocessing.\n",
        "#the target is Heart.Attack.Risk which is bainary.(0,1)\n",
        "str(heart_risk)\n",
        "table(heart_risk$Heart.Attack.Risk)"
      ]
    },
    {
      "cell_type": "markdown",
      "metadata": {
        "id": "N0DcX2XYcKbQ"
      },
      "source": [
        "- Preproessing:\n",
        "- Transforming data to the proper type and class.\n",
        "- checking for missing values, ommitig them, duplicated values, outliers, imputation, scaling.\n",
        "- Class balancing should be done before training the model. The goal of class balancing is to prevent the machine learning model from being biased towards the majority class during the training phase.\n",
        "-"
      ]
    },
    {
      "cell_type": "code",
      "execution_count": null,
      "metadata": {
        "colab": {
          "base_uri": "https://localhost:8080/",
          "height": 52
        },
        "id": "d2VQS0MycKbQ",
        "outputId": "25f619b7-6855-4263-9a4d-703f073f79f2",
        "vscode": {
          "languageId": "r"
        }
      },
      "outputs": [
        {
          "data": {
            "text/html": [
              "0"
            ],
            "text/latex": [
              "0"
            ],
            "text/markdown": [
              "0"
            ],
            "text/plain": [
              "[1] 0"
            ]
          },
          "metadata": {},
          "output_type": "display_data"
        },
        {
          "name": "stdout",
          "output_type": "stream",
          "text": [
            "[1] FALSE\n"
          ]
        }
      ],
      "source": [
        "sum(is.na(heart_risk))\n",
        "print(duplicated_values <- any(duplicated(heart_risk)))\n",
        "# there is no missing or duplicated value on the data frame.\n"
      ]
    },
    {
      "cell_type": "markdown",
      "metadata": {
        "id": "7j1TD87dcKbR"
      },
      "source": [
        "- transforming the data columns which are chr to factor and check their levels."
      ]
    },
    {
      "cell_type": "code",
      "execution_count": null,
      "metadata": {
        "colab": {
          "base_uri": "https://localhost:8080/",
          "height": 34
        },
        "id": "nd9Oc67wcKbR",
        "outputId": "c0d803f0-374a-4163-d6f7-d99faf399524",
        "vscode": {
          "languageId": "r"
        }
      },
      "outputs": [
        {
          "data": {
            "text/html": [
              "<style>\n",
              ".list-inline {list-style: none; margin:0; padding: 0}\n",
              ".list-inline>li {display: inline-block}\n",
              ".list-inline>li:not(:last-child)::after {content: \"\\00b7\"; padding: 0 .5ex}\n",
              "</style>\n",
              "<ol class=list-inline><li>'Argentina'</li><li>'Canada'</li><li>'France'</li><li>'Thailand'</li><li>'Germany'</li><li>'Japan'</li><li>'Brazil'</li><li>'South Africa'</li><li>'United States'</li><li>'Vietnam'</li><li>'China'</li><li>'Italy'</li><li>'Spain'</li><li>'India'</li><li>'Nigeria'</li><li>'New Zealand'</li><li>'South Korea'</li><li>'Australia'</li><li>'Colombia'</li><li>'United Kingdom'</li></ol>\n"
            ],
            "text/latex": [
              "\\begin{enumerate*}\n",
              "\\item 'Argentina'\n",
              "\\item 'Canada'\n",
              "\\item 'France'\n",
              "\\item 'Thailand'\n",
              "\\item 'Germany'\n",
              "\\item 'Japan'\n",
              "\\item 'Brazil'\n",
              "\\item 'South Africa'\n",
              "\\item 'United States'\n",
              "\\item 'Vietnam'\n",
              "\\item 'China'\n",
              "\\item 'Italy'\n",
              "\\item 'Spain'\n",
              "\\item 'India'\n",
              "\\item 'Nigeria'\n",
              "\\item 'New Zealand'\n",
              "\\item 'South Korea'\n",
              "\\item 'Australia'\n",
              "\\item 'Colombia'\n",
              "\\item 'United Kingdom'\n",
              "\\end{enumerate*}\n"
            ],
            "text/markdown": [
              "1. 'Argentina'\n",
              "2. 'Canada'\n",
              "3. 'France'\n",
              "4. 'Thailand'\n",
              "5. 'Germany'\n",
              "6. 'Japan'\n",
              "7. 'Brazil'\n",
              "8. 'South Africa'\n",
              "9. 'United States'\n",
              "10. 'Vietnam'\n",
              "11. 'China'\n",
              "12. 'Italy'\n",
              "13. 'Spain'\n",
              "14. 'India'\n",
              "15. 'Nigeria'\n",
              "16. 'New Zealand'\n",
              "17. 'South Korea'\n",
              "18. 'Australia'\n",
              "19. 'Colombia'\n",
              "20. 'United Kingdom'\n",
              "\n",
              "\n"
            ],
            "text/plain": [
              " [1] \"Argentina\"      \"Canada\"         \"France\"         \"Thailand\"      \n",
              " [5] \"Germany\"        \"Japan\"          \"Brazil\"         \"South Africa\"  \n",
              " [9] \"United States\"  \"Vietnam\"        \"China\"          \"Italy\"         \n",
              "[13] \"Spain\"          \"India\"          \"Nigeria\"        \"New Zealand\"   \n",
              "[17] \"South Korea\"    \"Australia\"      \"Colombia\"       \"United Kingdom\""
            ]
          },
          "metadata": {},
          "output_type": "display_data"
        }
      ],
      "source": [
        "#remove extra columns\n",
        "#Removing column Patient.ID as it is an extra index column\n",
        "heart_risk$Patient.ID <- NULL\n",
        "\n",
        "#Removing \"Country\" column as it is an extra column(it has 20 category)\n",
        "#this extra and useless data can be proven by feature importance as well.\n",
        "categories_country <- unique(heart_risk$Country)\n",
        "categories_country\n",
        "heart_risk$Country <- NULL\n",
        "\n",
        "#so removing \"Continent\" column\n",
        "heart_risk$Continent <- NULL\n",
        "\n"
      ]
    },
    {
      "cell_type": "code",
      "execution_count": null,
      "metadata": {
        "colab": {
          "base_uri": "https://localhost:8080/"
        },
        "id": "K8nLX-BXcKbS",
        "outputId": "5d12e048-00d1-4c7a-ae77-c6315ddd0e8e",
        "vscode": {
          "languageId": "r"
        }
      },
      "outputs": [
        {
          "name": "stdout",
          "output_type": "stream",
          "text": [
            "'data.frame':\t8763 obs. of  24 variables:\n",
            " $ Age                            : int  67 21 21 84 66 54 90 84 20 43 ...\n",
            " $ Sex                            : chr  \"Male\" \"Male\" \"Female\" \"Male\" ...\n",
            " $ Cholesterol                    : int  208 389 324 383 318 297 358 220 145 248 ...\n",
            " $ Heart.Rate                     : int  72 98 72 73 93 48 84 107 68 55 ...\n",
            " $ Diabetes                       : int  0 1 1 1 1 1 0 0 1 0 ...\n",
            " $ Family.History                 : int  0 1 0 1 1 1 0 0 0 1 ...\n",
            " $ Smoking                        : int  1 1 0 1 1 1 1 1 1 1 ...\n",
            " $ Obesity                        : int  0 1 0 0 1 0 0 1 1 1 ...\n",
            " $ Alcohol.Consumption            : int  0 1 0 1 0 1 1 1 0 1 ...\n",
            " $ Exercise.Hours.Per.Week        : num  4.17 1.81 2.08 9.83 5.8 ...\n",
            " $ Diet                           : chr  \"Average\" \"Unhealthy\" \"Healthy\" \"Average\" ...\n",
            " $ Previous.Heart.Problems        : int  0 1 1 1 1 1 0 0 0 0 ...\n",
            " $ Medication.Use                 : int  0 0 1 0 0 1 0 1 0 0 ...\n",
            " $ Stress.Level                   : int  9 1 9 9 6 2 7 4 5 4 ...\n",
            " $ Sedentary.Hours.Per.Day        : num  6.62 4.96 9.46 7.65 1.51 ...\n",
            " $ Income                         : int  261404 285768 235282 125640 160555 241339 190450 122093 25086 209703 ...\n",
            " $ BMI                            : num  31.3 27.2 28.2 36.5 21.8 ...\n",
            " $ Triglycerides                  : int  286 235 587 378 231 795 284 370 790 232 ...\n",
            " $ Physical.Activity.Days.Per.Week: int  0 1 4 3 1 5 4 6 7 7 ...\n",
            " $ Sleep.Hours.Per.Day            : int  6 7 4 4 5 10 10 7 4 7 ...\n",
            " $ Hemisphere                     : chr  \"Southern Hemisphere\" \"Northern Hemisphere\" \"Northern Hemisphere\" \"Northern Hemisphere\" ...\n",
            " $ Heart.Attack.Risk              : int  0 0 0 0 0 1 1 1 0 0 ...\n",
            " $ Blood.Pressure.Systolic        : num  158 165 174 163 91 172 102 131 144 160 ...\n",
            " $ Blood.Pressure.Diastolic       : num  88 93 99 100 88 86 73 68 105 70 ...\n"
          ]
        }
      ],
      "source": [
        "#this chunk of code, splites the Blood.Pressure to two numeric data and then add them to the data frame, then delet the Blood pressure from dataset.\n",
        "#heart_risk$Blood.Pressure <- as.numeric(heart_risk$Blood.Pressure)\n",
        "# When you have a character field like Blood.Pressure that contains values such as \"158/88\", and you try to directly convert it to numeric using as.numeric, R cannot interpret the string with a slash as a number, which results in NA values.\n",
        "#Split the String: Use strsplit or sub to separate the systolic and diastolic parts.\n",
        "#Convert to Numeric: Apply as.numeric to each part after splitting.\n",
        "Blood.Pressure_split <- strsplit(heart_risk$Blood.Pressure, \"/\")\n",
        "heart_risk$Blood.Pressure.Systolic <- as.numeric(sapply(Blood.Pressure_split, function(x) x[1]))\n",
        "heart_risk$Blood.Pressure.Diastolic <- as.numeric(sapply(Blood.Pressure_split, function(x) x[2]))\n",
        "heart_risk$Blood.Pressure <- NULL\n",
        "\n",
        "\n",
        "str(heart_risk)\n",
        "\n"
      ]
    },
    {
      "cell_type": "markdown",
      "metadata": {
        "id": "zu2Txg3XcKbT"
      },
      "source": [
        "## Outlier"
      ]
    },
    {
      "cell_type": "code",
      "execution_count": null,
      "metadata": {
        "colab": {
          "base_uri": "https://localhost:8080/",
          "height": 437
        },
        "id": "DWmIzAYzcKbT",
        "outputId": "a421ec96-aed1-4027-9e01-9d881a815ff0",
        "vscode": {
          "languageId": "r"
        }
      },
      "outputs": [
        {
          "data": {
            "image/png": "[encoded data removed]",
            "text/plain": [
              "Plot with title “Cholesterol”"
            ]
          },
          "metadata": {
            "image/png": {
              "height": 420,
              "width": 420
            }
          },
          "output_type": "display_data"
        }
      ],
      "source": [
        "#checking for any outlier with boxplot\n",
        "##we do not select the target column and category columns.\n",
        "# separate numerical columns from data and make sub data\n",
        "numeric_columns <- c(\"Blood.Pressure.Systolic\",\"Sleep.Hours.Per.Day\",\n",
        " \"Physical.Activity.Days.Per.Week\",\n",
        " \"Triglycerides\", \"BMI\", \"Income\", \"Heart.Rate\",\n",
        " \"Age\", \"Blood.Pressure.Diastolic\", \"Sedentary.Hours.Per.Day\",\n",
        " \"Stress.Level\", \"Exercise.Hours.Per.Week\", \"Cholesterol\")\n",
        "\n",
        "# creating subset of numeric values\n",
        "subdf <- heart_risk[, numeric_columns]\n",
        "\n",
        "par(mfrow=c(3,5))\n",
        "for (i in 1:ncol(subdf)) {\n",
        "  boxplot(subdf[,i], main=names(subdf)[i], type=\"l\")\n",
        "}\n",
        "\n",
        "#based on the plots, there is no outlier"
      ]
    },
    {
      "cell_type": "code",
      "execution_count": null,
      "metadata": {
        "colab": {
          "base_uri": "https://localhost:8080/"
        },
        "id": "FZwUA2IQcKbU",
        "outputId": "5c3feb1c-19dd-4293-b40d-ef11a178f837",
        "vscode": {
          "languageId": "r"
        }
      },
      "outputs": [
        {
          "name": "stdout",
          "output_type": "stream",
          "text": [
            "'data.frame':\t8763 obs. of  24 variables:\n",
            " $ Age                            : int  67 21 21 84 66 54 90 84 20 43 ...\n",
            " $ Sex                            : Factor w/ 2 levels \"Female\",\"Male\": 2 2 1 2 2 1 2 2 2 1 ...\n",
            " $ Cholesterol                    : int  208 389 324 383 318 297 358 220 145 248 ...\n",
            " $ Heart.Rate                     : int  72 98 72 73 93 48 84 107 68 55 ...\n",
            " $ Diabetes                       : Factor w/ 2 levels \"0\",\"1\": 1 2 2 2 2 2 1 1 2 1 ...\n",
            " $ Family.History                 : Factor w/ 2 levels \"0\",\"1\": 1 2 1 2 2 2 1 1 1 2 ...\n",
            " $ Smoking                        : Factor w/ 2 levels \"0\",\"1\": 2 2 1 2 2 2 2 2 2 2 ...\n",
            " $ Obesity                        : Factor w/ 2 levels \"0\",\"1\": 1 2 1 1 2 1 1 2 2 2 ...\n",
            " $ Alcohol.Consumption            : Factor w/ 2 levels \"0\",\"1\": 1 2 1 2 1 2 2 2 1 2 ...\n",
            " $ Exercise.Hours.Per.Week        : num  4.17 1.81 2.08 9.83 5.8 ...\n",
            " $ Diet                           : Factor w/ 3 levels \"Average\",\"Healthy\",..: 1 3 2 1 3 3 2 1 1 3 ...\n",
            " $ Previous.Heart.Problems        : Factor w/ 2 levels \"0\",\"1\": 1 2 2 2 2 2 1 1 1 1 ...\n",
            " $ Medication.Use                 : Factor w/ 2 levels \"0\",\"1\": 1 1 2 1 1 2 1 2 1 1 ...\n",
            " $ Stress.Level                   : Factor w/ 10 levels \"1\",\"2\",\"3\",\"4\",..: 9 1 9 9 6 2 7 4 5 4 ...\n",
            " $ Sedentary.Hours.Per.Day        : num  6.62 4.96 9.46 7.65 1.51 ...\n",
            " $ Income                         : int  261404 285768 235282 125640 160555 241339 190450 122093 25086 209703 ...\n",
            " $ BMI                            : num  31.3 27.2 28.2 36.5 21.8 ...\n",
            " $ Triglycerides                  : int  286 235 587 378 231 795 284 370 790 232 ...\n",
            " $ Physical.Activity.Days.Per.Week: int  0 1 4 3 1 5 4 6 7 7 ...\n",
            " $ Sleep.Hours.Per.Day            : int  6 7 4 4 5 10 10 7 4 7 ...\n",
            " $ Hemisphere                     : Factor w/ 2 levels \"Northern Hemisphere\",..: 2 1 1 1 1 1 1 1 2 1 ...\n",
            " $ Heart.Attack.Risk              : Factor w/ 2 levels \"0\",\"1\": 1 1 1 1 1 2 2 2 1 1 ...\n",
            " $ Blood.Pressure.Systolic        : num  158 165 174 163 91 172 102 131 144 160 ...\n",
            " $ Blood.Pressure.Diastolic       : num  88 93 99 100 88 86 73 68 105 70 ...\n"
          ]
        }
      ],
      "source": [
        "#transforming chr/categorical data to factor\n",
        "#change Target, which is the dependent variable, to factor\n",
        "heart_risk$Heart.Attack.Risk<-as.factor(heart_risk$Heart.Attack.Risk)\n",
        "Target <- as.matrix(heart_risk$Heart.Attack.Risk)\n",
        "\n",
        "#convert other categorical variables into factor variables\n",
        "ctego_v <- c(\"Sex\",\"Stress.Level\",\"Hemisphere\",\n",
        "             \"Diet\", \"Diabetes\", \"Family.History\",\n",
        "             \"Smoking\", \"Obesity\", \"Alcohol.Consumption\",\n",
        "             \"Previous.Heart.Problems\", \"Medication.Use\" )\n",
        "\n",
        "heart_risk[ctego_v] <- lapply(heart_risk[ctego_v], factor)\n",
        "#checking data\n",
        "str(heart_risk)"
      ]
    },
    {
      "cell_type": "markdown",
      "metadata": {
        "id": "g3lDcwzLcKbV"
      },
      "source": [
        "## class balance"
      ]
    },
    {
      "cell_type": "code",
      "execution_count": null,
      "metadata": {
        "colab": {
          "base_uri": "https://localhost:8080/",
          "height": 541
        },
        "id": "WH2ir0XfcKbV",
        "outputId": "ba0ab544-88ca-4342-ac8e-b147912be625",
        "vscode": {
          "languageId": "r"
        }
      },
      "outputs": [
        {
          "data": {
            "text/plain": [
              "\n",
              "   0    1 \n",
              "5624 3139 "
            ]
          },
          "metadata": {},
          "output_type": "display_data"
        },
        {
          "data": {
            "text/plain": [
              "\n",
              "        0         1 \n",
              "0.6417893 0.3582107 "
            ]
          },
          "metadata": {},
          "output_type": "display_data"
        },
        {
          "data": {
            "image/png": "[encoded data removed]",
            "text/plain": [
              "Plot with title “Medication.Use”"
            ]
          },
          "metadata": {
            "image/png": {
              "height": 420,
              "width": 420
            }
          },
          "output_type": "display_data"
        }
      ],
      "source": [
        "# \"Heart.Attack.Risk\" is our target\n",
        "#seeing the target binary distribution as a table\n",
        "table(heart_risk$Heart.Attack.Risk)\n",
        "#and it is clearly an unbalanced distribution.\n",
        "\n",
        "#Calculating the target binary distribution percentage\n",
        "#by dividing the values the above table by the total number of rows of the data set\n",
        "table(heart_risk$Heart.Attack.Risk)/nrow(heart_risk)\n",
        "#64% are in category one and 36% are in category zero,so it's unbalanced distribution.\n",
        "\n",
        "# using barplot for showing imbalance\n",
        "data_c<- heart_risk[ctego_v]\n",
        "\n",
        "par(mfrow=c(2,6))\n",
        "for (i in 1:length(data_c)) {\n",
        "  barplot(prop.table(table(data_c[,i])),\n",
        "          col = rainbow(10),\n",
        "          ylim = c(0, 0.7),\n",
        "          main = names(data_c[i]))\n",
        "}\n",
        "\n",
        "#\"Sex\",\"Hemisphere\", \"Continent\", \"Diabetes\",\n",
        "#\"Smoking\", \"Alcohol.Consumption\" are imbalance.\n",
        "\n"
      ]
    },
    {
      "cell_type": "code",
      "execution_count": null,
      "metadata": {
        "colab": {
          "base_uri": "https://localhost:8080/",
          "height": 158
        },
        "id": "vYtOsoTBcKbW",
        "outputId": "dde612b1-d7a6-445a-f876-f3452416acef",
        "vscode": {
          "languageId": "r"
        }
      },
      "outputs": [
        {
          "ename": "ERROR",
          "evalue": "ignored",
          "output_type": "error",
          "traceback": [
            "Error in parse(text = x, srcfile = src): <text>:1:3: unexpected string constant\n12: undersampled_data <- data.frame(down_sampled$x, Heart.Attack.Risk = down_sampled$y)\n13: '\n      ^\nTraceback:\n"
          ]
        }
      ],
      "source": [
        "'''\n",
        "#balancing data using undersampling\n",
        "#spliting the data to predictors and target/ X and y\n",
        "X <- heart_risk[, names(heart_risk) != \"Heart.Attack.Risk\"]\n",
        "y <- heart_risk$Heart.Attack.Risk\n",
        "\n",
        "#appliying the undersampling using function \"downSample\"\n",
        "set.seed(123)\n",
        "down_sampled <- downSample(x = X, y = y)\n",
        "\n",
        "#visualizing the balanced data after implementing undersampling\n",
        "undersampled_data <- data.frame(down_sampled$x, Heart.Attack.Risk = down_sampled$y)\n",
        "''''"
      ]
    },
    {
      "cell_type": "markdown",
      "metadata": {
        "id": "mK7Tw9WUcKbX"
      },
      "source": [
        "## splitting data"
      ]
    },
    {
      "cell_type": "code",
      "execution_count": null,
      "metadata": {
        "id": "uKlmPifUcKbX",
        "vscode": {
          "languageId": "r"
        }
      },
      "outputs": [],
      "source": [
        "# split the original dataset into a training and testing set and split data into training (80%) and testing set (20%)\n",
        "set.seed(123)\n",
        "parts <- createDataPartition(heart_risk$Heart.Attack.Risk, p = .8, list = F)\n",
        "train <- heart_risk[parts, ]\n",
        "test <- heart_risk[-parts, ]"
      ]
    },
    {
      "cell_type": "code",
      "execution_count": null,
      "metadata": {
        "colab": {
          "base_uri": "https://localhost:8080/",
          "height": 34
        },
        "id": "uZV9pP_HcKbX",
        "outputId": "5c1a6d31-ea69-4e35-e261-fcaaaea07bc4",
        "vscode": {
          "languageId": "r"
        }
      },
      "outputs": [
        {
          "data": {
            "text/html": [
              "<style>\n",
              ".list-inline {list-style: none; margin:0; padding: 0}\n",
              ".list-inline>li {display: inline-block}\n",
              ".list-inline>li:not(:last-child)::after {content: \"\\00b7\"; padding: 0 .5ex}\n",
              "</style>\n",
              "<ol class=list-inline><li>TRUE</li><li>TRUE</li><li>TRUE</li><li>TRUE</li><li>TRUE</li><li>TRUE</li><li>TRUE</li><li>TRUE</li><li>TRUE</li><li>TRUE</li><li>TRUE</li><li>TRUE</li><li>TRUE</li><li>TRUE</li><li>TRUE</li><li>TRUE</li><li>TRUE</li><li>TRUE</li><li>TRUE</li><li>TRUE</li><li>TRUE</li><li>FALSE</li><li>TRUE</li><li>TRUE</li></ol>\n"
            ],
            "text/latex": [
              "\\begin{enumerate*}\n",
              "\\item TRUE\n",
              "\\item TRUE\n",
              "\\item TRUE\n",
              "\\item TRUE\n",
              "\\item TRUE\n",
              "\\item TRUE\n",
              "\\item TRUE\n",
              "\\item TRUE\n",
              "\\item TRUE\n",
              "\\item TRUE\n",
              "\\item TRUE\n",
              "\\item TRUE\n",
              "\\item TRUE\n",
              "\\item TRUE\n",
              "\\item TRUE\n",
              "\\item TRUE\n",
              "\\item TRUE\n",
              "\\item TRUE\n",
              "\\item TRUE\n",
              "\\item TRUE\n",
              "\\item TRUE\n",
              "\\item FALSE\n",
              "\\item TRUE\n",
              "\\item TRUE\n",
              "\\end{enumerate*}\n"
            ],
            "text/markdown": [
              "1. TRUE\n",
              "2. TRUE\n",
              "3. TRUE\n",
              "4. TRUE\n",
              "5. TRUE\n",
              "6. TRUE\n",
              "7. TRUE\n",
              "8. TRUE\n",
              "9. TRUE\n",
              "10. TRUE\n",
              "11. TRUE\n",
              "12. TRUE\n",
              "13. TRUE\n",
              "14. TRUE\n",
              "15. TRUE\n",
              "16. TRUE\n",
              "17. TRUE\n",
              "18. TRUE\n",
              "19. TRUE\n",
              "20. TRUE\n",
              "21. TRUE\n",
              "22. FALSE\n",
              "23. TRUE\n",
              "24. TRUE\n",
              "\n",
              "\n"
            ],
            "text/plain": [
              " [1]  TRUE  TRUE  TRUE  TRUE  TRUE  TRUE  TRUE  TRUE  TRUE  TRUE  TRUE  TRUE\n",
              "[13]  TRUE  TRUE  TRUE  TRUE  TRUE  TRUE  TRUE  TRUE  TRUE FALSE  TRUE  TRUE"
            ]
          },
          "metadata": {},
          "output_type": "display_data"
        }
      ],
      "source": [
        "names(train) != \"Heart.Attack.Risk\""
      ]
    },
    {
      "cell_type": "markdown",
      "metadata": {
        "id": "4bRLf0gJcKbX"
      },
      "source": [
        "## feature importance\n",
        "## random forest"
      ]
    },
    {
      "cell_type": "code",
      "execution_count": null,
      "metadata": {
        "colab": {
          "base_uri": "https://localhost:8080/",
          "height": 34
        },
        "id": "jtfpoVSJXTuc",
        "outputId": "d1befd7c-2d17-4621-fa37-42d4671946e7",
        "vscode": {
          "languageId": "r"
        }
      },
      "outputs": [
        {
          "data": {
            "text/plain": [
              "NULL"
            ]
          },
          "metadata": {},
          "output_type": "display_data"
        }
      ],
      "source": [
        "train$Blood.Pressure"
      ]
    },
    {
      "cell_type": "code",
      "execution_count": null,
      "metadata": {
        "colab": {
          "base_uri": "https://localhost:8080/",
          "height": 951
        },
        "id": "12jvxDQAcKbX",
        "outputId": "20f5d6b9-912e-40af-ba17-75c5821e9912",
        "vscode": {
          "languageId": "r"
        }
      },
      "outputs": [
        {
          "data": {
            "text/html": [
              "<ol>\n",
              "\t<li>0.497540964997418</li>\n",
              "</ol>\n"
            ],
            "text/latex": [
              "\\begin{enumerate}\n",
              "\\item 0.497540964997418\n",
              "\\end{enumerate}\n"
            ],
            "text/markdown": [
              "1. 0.497540964997418\n",
              "\n",
              "\n"
            ],
            "text/plain": [
              "[[1]]\n",
              "[1] 0.497541\n"
            ]
          },
          "metadata": {},
          "output_type": "display_data"
        },
        {
          "data": {
            "text/plain": [
              "Confusion Matrix and Statistics\n",
              "\n",
              "          Reference\n",
              "Prediction   0   1\n",
              "         0 794 446\n",
              "         1 330 181\n",
              "                                          \n",
              "               Accuracy : 0.5568          \n",
              "                 95% CI : (0.5332, 0.5803)\n",
              "    No Information Rate : 0.6419          \n",
              "    P-Value [Acc > NIR] : 1               \n",
              "                                          \n",
              "                  Kappa : -0.0051         \n",
              "                                          \n",
              " Mcnemar's Test P-Value : 3.655e-05       \n",
              "                                          \n",
              "            Sensitivity : 0.7064          \n",
              "            Specificity : 0.2887          \n",
              "         Pos Pred Value : 0.6403          \n",
              "         Neg Pred Value : 0.3542          \n",
              "             Prevalence : 0.6419          \n",
              "         Detection Rate : 0.4535          \n",
              "   Detection Prevalence : 0.7082          \n",
              "      Balanced Accuracy : 0.4975          \n",
              "                                          \n",
              "       'Positive' Class : 0               \n",
              "                                          "
            ]
          },
          "metadata": {},
          "output_type": "display_data"
        },
        {
          "data": {
            "image/png": "[encoded data removed]",
            "text/plain": [
              "plot without title"
            ]
          },
          "metadata": {
            "image/png": {
              "height": 420,
              "width": 420
            }
          },
          "output_type": "display_data"
        }
      ],
      "source": [
        "#Considering that the response variable is binary\n",
        "#random forest model\n",
        "set.seed(100)\n",
        "random_frst <- randomForest(Heart.Attack.Risk ~ .,\n",
        "                            data=train,importance=T,ntree=5)\n",
        "\n",
        "y_pred <- predict(random_frst, test[,-22],type=\"response\")\n",
        "library(ROCR)\n",
        "preds <- prediction(as.numeric(y_pred ), test$Heart.Attack.Risk)\n",
        "perf <- performance(preds,\"tpr\",\"fpr\")\n",
        "performance(preds,\"auc\")@y.values\n",
        "confusionMatrix(y_pred, test$Heart.Attack.Risk)\n",
        "plot(perf,col='red',lwd=3)\n",
        "abline(a=0,b=1,lwd=2,lty=2,col=\"gray\")\n",
        "\n",
        "#Accuracy is 0.6305"
      ]
    },
    {
      "cell_type": "code",
      "execution_count": null,
      "metadata": {
        "colab": {
          "base_uri": "https://localhost:8080/",
          "height": 454
        },
        "id": "JW8rF8Erei7X",
        "outputId": "b6de3d7a-89a7-4f24-81e4-3cee5c062b67",
        "vscode": {
          "languageId": "r"
        }
      },
      "outputs": [
        {
          "name": "stdout",
          "output_type": "stream",
          "text": [
            "Accuracy: 0.5568247 \n"
          ]
        },
        {
          "data": {
            "image/png": "[encoded data removed]",
            "text/plain": [
              "plot without title"
            ]
          },
          "metadata": {
            "image/png": {
              "height": 420,
              "width": 420
            }
          },
          "output_type": "display_data"
        }
      ],
      "source": [
        "cm <- confusionMatrix(y_pred, test$Heart.Attack.Risk)\n",
        "\n",
        "# Extracting the table from the confusion matrix\n",
        "cm_table <- cm$table\n",
        "\n",
        "# Convert the matrix to a data frame for plotting\n",
        "cm_df <- as.data.frame(as.table(cm_table))\n",
        "colnames(cm_df) <- c(\"Actual\", \"Predicted\", \"Freq\")\n",
        "\n",
        "# Calculate Accuracy\n",
        "accuracy <- sum(diag(cm_table)) / sum(cm_table)\n",
        "\n",
        "# Output accuracy\n",
        "cat(\"Accuracy:\", accuracy, \"\\n\")\n",
        "\n",
        "# Plotting the confusion matrix\n",
        "ggplot(cm_df, aes(x = Actual, y = Predicted, fill = Freq)) +\n",
        "    geom_tile() +\n",
        "    geom_text(aes(label = Freq), vjust = 1) +\n",
        "    scale_fill_gradient(low = \"white\", high = \"steelblue\") +\n",
        "    labs(title = \"Confusion Matrix - Random Forest\",\n",
        "         subtitle = paste(\"Accuracy:\", round(accuracy, 4)),\n",
        "         x = \"Predicted Values\",\n",
        "         y = \"Actual Values\") +\n",
        "    theme_minimal() +\n",
        "    theme(axis.text.x = element_text(angle = 45, hjust = 1))"
      ]
    },
    {
      "cell_type": "code",
      "execution_count": null,
      "metadata": {
        "colab": {
          "base_uri": "https://localhost:8080/",
          "height": 1000
        },
        "id": "I_gFdL9ddAmu",
        "outputId": "9862ce93-cff4-4715-ee9e-d22c9a492a53",
        "vscode": {
          "languageId": "r"
        }
      },
      "outputs": [
        {
          "data": {
            "text/plain": [
              "\n",
              "   0    1 \n",
              "4500 2512 "
            ]
          },
          "metadata": {},
          "output_type": "display_data"
        },
        {
          "data": {
            "text/html": [
              "<ol>\n",
              "\t<li>0.498665480427046</li>\n",
              "</ol>\n"
            ],
            "text/latex": [
              "\\begin{enumerate}\n",
              "\\item 0.498665480427046\n",
              "\\end{enumerate}\n"
            ],
            "text/markdown": [
              "1. 0.498665480427046\n",
              "\n",
              "\n"
            ],
            "text/plain": [
              "[[1]]\n",
              "[1] 0.4986655\n"
            ]
          },
          "metadata": {},
          "output_type": "display_data"
        },
        {
          "data": {
            "text/plain": [
              "Confusion Matrix and Statistics\n",
              "\n",
              "          Reference\n",
              "Prediction    0    1\n",
              "         0 1121  627\n",
              "         1    3    0\n",
              "                                          \n",
              "               Accuracy : 0.6402          \n",
              "                 95% CI : (0.6172, 0.6627)\n",
              "    No Information Rate : 0.6419          \n",
              "    P-Value [Acc > NIR] : 0.5701          \n",
              "                                          \n",
              "                  Kappa : -0.0034         \n",
              "                                          \n",
              " Mcnemar's Test P-Value : <2e-16          \n",
              "                                          \n",
              "            Sensitivity : 0.9973          \n",
              "            Specificity : 0.0000          \n",
              "         Pos Pred Value : 0.6413          \n",
              "         Neg Pred Value : 0.0000          \n",
              "             Prevalence : 0.6419          \n",
              "         Detection Rate : 0.6402          \n",
              "   Detection Prevalence : 0.9983          \n",
              "      Balanced Accuracy : 0.4987          \n",
              "                                          \n",
              "       'Positive' Class : 0               \n",
              "                                          "
            ]
          },
          "metadata": {},
          "output_type": "display_data"
        },
        {
          "data": {
            "image/png": "[encoded data removed]",
            "text/plain": [
              "plot without title"
            ]
          },
          "metadata": {
            "image/png": {
              "height": 420,
              "width": 420
            }
          },
          "output_type": "display_data"
        }
      ],
      "source": [
        "# Assuming you have the 'randomForest' library loaded and 'train' is your training dataset\n",
        "library(randomForest)\n",
        "\n",
        "# Check the class distribution in the training set\n",
        "table(train$Heart.Attack.Risk)\n",
        "\n",
        "# Calculate class weights\n",
        "class_weights <- 1 / table(train$Heart.Attack.Risk)\n",
        "\n",
        "# Fit random forest model with class weights\n",
        "set.seed(100)\n",
        "random_frst <- randomForest(Heart.Attack.Risk ~ .,\n",
        "                            data = train,\n",
        "                            importance = TRUE,\n",
        "                            ntree = 500,  # Increase the number of trees for better performance\n",
        "                            classwt = class_weights)\n",
        "\n",
        "# Make predictions on the test set\n",
        "y_pred <- predict(random_frst, test[,-22], type = \"response\")\n",
        "\n",
        "# Evaluate the model\n",
        "library(ROCR)\n",
        "preds <- prediction(as.numeric(y_pred), test$Heart.Attack.Risk)\n",
        "perf <- performance(preds, \"tpr\", \"fpr\")\n",
        "performance(preds, \"auc\")@y.values\n",
        "confusionMatrix(y_pred, test$Heart.Attack.Risk)\n",
        "plot(perf, col = 'red', lwd = 3)\n",
        "abline(a = 0, b = 1, lwd = 2, lty = 2, col = \"gray\")\n"
      ]
    },
    {
      "cell_type": "code",
      "execution_count": null,
      "metadata": {
        "colab": {
          "base_uri": "https://localhost:8080/",
          "height": 454
        },
        "id": "egQbpPSEcKbY",
        "outputId": "1cb56026-b2ff-48cd-ecf8-e0ff0db03805",
        "vscode": {
          "languageId": "r"
        }
      },
      "outputs": [
        {
          "name": "stdout",
          "output_type": "stream",
          "text": [
            "Accuracy: 0.6402056 \n"
          ]
        },
        {
          "data": {
            "image/png": "[encoded data removed]",
            "text/plain": [
              "plot without title"
            ]
          },
          "metadata": {
            "image/png": {
              "height": 420,
              "width": 420
            }
          },
          "output_type": "display_data"
        }
      ],
      "source": [
        "cm <- confusionMatrix(y_pred, test$Heart.Attack.Risk)\n",
        "\n",
        "# Extracting the table from the confusion matrix\n",
        "cm_table <- cm$table\n",
        "\n",
        "# Convert the matrix to a data frame for plotting\n",
        "cm_df <- as.data.frame(as.table(cm_table))\n",
        "colnames(cm_df) <- c(\"Actual\", \"Predicted\", \"Freq\")\n",
        "\n",
        "# Calculate Accuracy\n",
        "accuracy <- sum(diag(cm_table)) / sum(cm_table)\n",
        "\n",
        "# Output accuracy\n",
        "cat(\"Accuracy:\", accuracy, \"\\n\")\n",
        "\n",
        "# Plotting the confusion matrix\n",
        "ggplot(cm_df, aes(x = Actual, y = Predicted, fill = Freq)) +\n",
        "    geom_tile() +\n",
        "    geom_text(aes(label = Freq), vjust = 1) +\n",
        "    scale_fill_gradient(low = \"white\", high = \"steelblue\") +\n",
        "    labs(title = \"Confusion Matrix - Random Forest\",\n",
        "         subtitle = paste(\"Accuracy:\", round(accuracy, 4)),\n",
        "         x = \"Predicted Values\",\n",
        "         y = \"Actual Values\") +\n",
        "    theme_minimal() +\n",
        "    theme(axis.text.x = element_text(angle = 45, hjust = 1))"
      ]
    },
    {
      "cell_type": "markdown",
      "metadata": {
        "id": "HxA-wPGccKbY"
      },
      "source": [
        "- - Evaluate variable importance"
      ]
    },
    {
      "cell_type": "code",
      "execution_count": null,
      "metadata": {
        "colab": {
          "base_uri": "https://localhost:8080/",
          "height": 1000
        },
        "id": "U_gU3yH8cKbY",
        "outputId": "89f0aa75-138d-43f0-de9f-69b45e1e33bb",
        "vscode": {
          "languageId": "r"
        }
      },
      "outputs": [
        {
          "data": {
            "text/plain": [
              "\n",
              "Call:\n",
              " randomForest(formula = Heart.Attack.Risk ~ ., data = train, rControl = control,      importance = TRUE, ntree = 50) \n",
              "               Type of random forest: classification\n",
              "                     Number of trees: 50\n",
              "No. of variables tried at each split: 4\n",
              "\n",
              "        OOB estimate of  error rate: 39.83%\n",
              "Confusion matrix:\n",
              "     0   1 class.error\n",
              "0 3896 604   0.1342222\n",
              "1 2189 323   0.8714172"
            ]
          },
          "metadata": {},
          "output_type": "display_data"
        },
        {
          "data": {
            "text/html": [
              "<table class=\"dataframe\">\n",
              "<caption>A matrix: 23 × 4 of type dbl</caption>\n",
              "<thead>\n",
              "\t<tr><th></th><th scope=col>0</th><th scope=col>1</th><th scope=col>MeanDecreaseAccuracy</th><th scope=col>MeanDecreaseGini</th></tr>\n",
              "</thead>\n",
              "<tbody>\n",
              "\t<tr><th scope=row>Age</th><td> 1.23993193</td><td> 1.06249118</td><td> 1.8249180</td><td>226.03444</td></tr>\n",
              "\t<tr><th scope=row>Sex</th><td>-1.66710215</td><td> 0.60651215</td><td>-0.8891247</td><td> 30.00408</td></tr>\n",
              "\t<tr><th scope=row>Cholesterol</th><td> 0.20439817</td><td>-0.73538659</td><td>-0.1915780</td><td>235.95149</td></tr>\n",
              "\t<tr><th scope=row>Heart.Rate</th><td> 0.26153325</td><td>-0.95013471</td><td>-0.2285276</td><td>216.88802</td></tr>\n",
              "\t<tr><th scope=row>Diabetes</th><td>-0.35787851</td><td>-0.41043723</td><td>-0.5077069</td><td> 31.08375</td></tr>\n",
              "\t<tr><th scope=row>Family.History</th><td> 1.02576880</td><td>-0.92431891</td><td> 0.3665822</td><td> 34.41555</td></tr>\n",
              "\t<tr><th scope=row>Smoking</th><td>-0.89266466</td><td>-0.93631065</td><td>-1.4336839</td><td> 17.58951</td></tr>\n",
              "\t<tr><th scope=row>Obesity</th><td> 0.84141646</td><td> 1.24942569</td><td> 1.5914054</td><td> 32.90561</td></tr>\n",
              "\t<tr><th scope=row>Alcohol.Consumption</th><td>-0.71010236</td><td> 0.91090846</td><td> 0.1528779</td><td> 31.72295</td></tr>\n",
              "\t<tr><th scope=row>Exercise.Hours.Per.Week</th><td> 1.14303722</td><td> 0.66969496</td><td> 1.3060231</td><td>254.86349</td></tr>\n",
              "\t<tr><th scope=row>Diet</th><td> 2.38116473</td><td> 0.52744459</td><td> 2.6979836</td><td> 70.84731</td></tr>\n",
              "\t<tr><th scope=row>Previous.Heart.Problems</th><td>-0.71055056</td><td> 1.51519505</td><td> 0.3519459</td><td> 33.29509</td></tr>\n",
              "\t<tr><th scope=row>Medication.Use</th><td>-0.06278472</td><td> 1.62689023</td><td> 0.8979330</td><td> 33.65244</td></tr>\n",
              "\t<tr><th scope=row>Stress.Level</th><td> 0.82829319</td><td>-0.76653838</td><td> 0.2090434</td><td>247.35471</td></tr>\n",
              "\t<tr><th scope=row>Sedentary.Hours.Per.Day</th><td> 0.67799057</td><td>-1.53042907</td><td>-0.2081188</td><td>256.60811</td></tr>\n",
              "\t<tr><th scope=row>Income</th><td>-2.68532247</td><td> 0.20732461</td><td>-2.3946102</td><td>258.04411</td></tr>\n",
              "\t<tr><th scope=row>BMI</th><td>-0.83075219</td><td>-1.14857988</td><td>-1.2562083</td><td>257.34410</td></tr>\n",
              "\t<tr><th scope=row>Triglycerides</th><td>-0.56498983</td><td>-0.06960498</td><td>-0.5506848</td><td>244.04860</td></tr>\n",
              "\t<tr><th scope=row>Physical.Activity.Days.Per.Week</th><td> 0.62658003</td><td>-0.47430958</td><td> 0.1241875</td><td>131.15871</td></tr>\n",
              "\t<tr><th scope=row>Sleep.Hours.Per.Day</th><td>-0.85437871</td><td> 0.07870475</td><td>-0.6590263</td><td>122.29994</td></tr>\n",
              "\t<tr><th scope=row>Hemisphere</th><td> 0.02701147</td><td>-2.32306633</td><td>-1.1553587</td><td> 31.27655</td></tr>\n",
              "\t<tr><th scope=row>Blood.Pressure.Systolic</th><td>-1.19075242</td><td> 0.97887678</td><td>-0.2549419</td><td>224.50423</td></tr>\n",
              "\t<tr><th scope=row>Blood.Pressure.Diastolic</th><td> 1.18450042</td><td>-0.43024036</td><td> 0.5330648</td><td>203.32221</td></tr>\n",
              "</tbody>\n",
              "</table>\n"
            ],
            "text/latex": [
              "A matrix: 23 × 4 of type dbl\n",
              "\\begin{tabular}{r|llll}\n",
              "  & 0 & 1 & MeanDecreaseAccuracy & MeanDecreaseGini\\\\\n",
              "\\hline\n",
              "\tAge &  1.23993193 &  1.06249118 &  1.8249180 & 226.03444\\\\\n",
              "\tSex & -1.66710215 &  0.60651215 & -0.8891247 &  30.00408\\\\\n",
              "\tCholesterol &  0.20439817 & -0.73538659 & -0.1915780 & 235.95149\\\\\n",
              "\tHeart.Rate &  0.26153325 & -0.95013471 & -0.2285276 & 216.88802\\\\\n",
              "\tDiabetes & -0.35787851 & -0.41043723 & -0.5077069 &  31.08375\\\\\n",
              "\tFamily.History &  1.02576880 & -0.92431891 &  0.3665822 &  34.41555\\\\\n",
              "\tSmoking & -0.89266466 & -0.93631065 & -1.4336839 &  17.58951\\\\\n",
              "\tObesity &  0.84141646 &  1.24942569 &  1.5914054 &  32.90561\\\\\n",
              "\tAlcohol.Consumption & -0.71010236 &  0.91090846 &  0.1528779 &  31.72295\\\\\n",
              "\tExercise.Hours.Per.Week &  1.14303722 &  0.66969496 &  1.3060231 & 254.86349\\\\\n",
              "\tDiet &  2.38116473 &  0.52744459 &  2.6979836 &  70.84731\\\\\n",
              "\tPrevious.Heart.Problems & -0.71055056 &  1.51519505 &  0.3519459 &  33.29509\\\\\n",
              "\tMedication.Use & -0.06278472 &  1.62689023 &  0.8979330 &  33.65244\\\\\n",
              "\tStress.Level &  0.82829319 & -0.76653838 &  0.2090434 & 247.35471\\\\\n",
              "\tSedentary.Hours.Per.Day &  0.67799057 & -1.53042907 & -0.2081188 & 256.60811\\\\\n",
              "\tIncome & -2.68532247 &  0.20732461 & -2.3946102 & 258.04411\\\\\n",
              "\tBMI & -0.83075219 & -1.14857988 & -1.2562083 & 257.34410\\\\\n",
              "\tTriglycerides & -0.56498983 & -0.06960498 & -0.5506848 & 244.04860\\\\\n",
              "\tPhysical.Activity.Days.Per.Week &  0.62658003 & -0.47430958 &  0.1241875 & 131.15871\\\\\n",
              "\tSleep.Hours.Per.Day & -0.85437871 &  0.07870475 & -0.6590263 & 122.29994\\\\\n",
              "\tHemisphere &  0.02701147 & -2.32306633 & -1.1553587 &  31.27655\\\\\n",
              "\tBlood.Pressure.Systolic & -1.19075242 &  0.97887678 & -0.2549419 & 224.50423\\\\\n",
              "\tBlood.Pressure.Diastolic &  1.18450042 & -0.43024036 &  0.5330648 & 203.32221\\\\\n",
              "\\end{tabular}\n"
            ],
            "text/markdown": [
              "\n",
              "A matrix: 23 × 4 of type dbl\n",
              "\n",
              "| <!--/--> | 0 | 1 | MeanDecreaseAccuracy | MeanDecreaseGini |\n",
              "|---|---|---|---|---|\n",
              "| Age |  1.23993193 |  1.06249118 |  1.8249180 | 226.03444 |\n",
              "| Sex | -1.66710215 |  0.60651215 | -0.8891247 |  30.00408 |\n",
              "| Cholesterol |  0.20439817 | -0.73538659 | -0.1915780 | 235.95149 |\n",
              "| Heart.Rate |  0.26153325 | -0.95013471 | -0.2285276 | 216.88802 |\n",
              "| Diabetes | -0.35787851 | -0.41043723 | -0.5077069 |  31.08375 |\n",
              "| Family.History |  1.02576880 | -0.92431891 |  0.3665822 |  34.41555 |\n",
              "| Smoking | -0.89266466 | -0.93631065 | -1.4336839 |  17.58951 |\n",
              "| Obesity |  0.84141646 |  1.24942569 |  1.5914054 |  32.90561 |\n",
              "| Alcohol.Consumption | -0.71010236 |  0.91090846 |  0.1528779 |  31.72295 |\n",
              "| Exercise.Hours.Per.Week |  1.14303722 |  0.66969496 |  1.3060231 | 254.86349 |\n",
              "| Diet |  2.38116473 |  0.52744459 |  2.6979836 |  70.84731 |\n",
              "| Previous.Heart.Problems | -0.71055056 |  1.51519505 |  0.3519459 |  33.29509 |\n",
              "| Medication.Use | -0.06278472 |  1.62689023 |  0.8979330 |  33.65244 |\n",
              "| Stress.Level |  0.82829319 | -0.76653838 |  0.2090434 | 247.35471 |\n",
              "| Sedentary.Hours.Per.Day |  0.67799057 | -1.53042907 | -0.2081188 | 256.60811 |\n",
              "| Income | -2.68532247 |  0.20732461 | -2.3946102 | 258.04411 |\n",
              "| BMI | -0.83075219 | -1.14857988 | -1.2562083 | 257.34410 |\n",
              "| Triglycerides | -0.56498983 | -0.06960498 | -0.5506848 | 244.04860 |\n",
              "| Physical.Activity.Days.Per.Week |  0.62658003 | -0.47430958 |  0.1241875 | 131.15871 |\n",
              "| Sleep.Hours.Per.Day | -0.85437871 |  0.07870475 | -0.6590263 | 122.29994 |\n",
              "| Hemisphere |  0.02701147 | -2.32306633 | -1.1553587 |  31.27655 |\n",
              "| Blood.Pressure.Systolic | -1.19075242 |  0.97887678 | -0.2549419 | 224.50423 |\n",
              "| Blood.Pressure.Diastolic |  1.18450042 | -0.43024036 |  0.5330648 | 203.32221 |\n",
              "\n"
            ],
            "text/plain": [
              "                                0           1           MeanDecreaseAccuracy\n",
              "Age                              1.23993193  1.06249118  1.8249180          \n",
              "Sex                             -1.66710215  0.60651215 -0.8891247          \n",
              "Cholesterol                      0.20439817 -0.73538659 -0.1915780          \n",
              "Heart.Rate                       0.26153325 -0.95013471 -0.2285276          \n",
              "Diabetes                        -0.35787851 -0.41043723 -0.5077069          \n",
              "Family.History                   1.02576880 -0.92431891  0.3665822          \n",
              "Smoking                         -0.89266466 -0.93631065 -1.4336839          \n",
              "Obesity                          0.84141646  1.24942569  1.5914054          \n",
              "Alcohol.Consumption             -0.71010236  0.91090846  0.1528779          \n",
              "Exercise.Hours.Per.Week          1.14303722  0.66969496  1.3060231          \n",
              "Diet                             2.38116473  0.52744459  2.6979836          \n",
              "Previous.Heart.Problems         -0.71055056  1.51519505  0.3519459          \n",
              "Medication.Use                  -0.06278472  1.62689023  0.8979330          \n",
              "Stress.Level                     0.82829319 -0.76653838  0.2090434          \n",
              "Sedentary.Hours.Per.Day          0.67799057 -1.53042907 -0.2081188          \n",
              "Income                          -2.68532247  0.20732461 -2.3946102          \n",
              "BMI                             -0.83075219 -1.14857988 -1.2562083          \n",
              "Triglycerides                   -0.56498983 -0.06960498 -0.5506848          \n",
              "Physical.Activity.Days.Per.Week  0.62658003 -0.47430958  0.1241875          \n",
              "Sleep.Hours.Per.Day             -0.85437871  0.07870475 -0.6590263          \n",
              "Hemisphere                       0.02701147 -2.32306633 -1.1553587          \n",
              "Blood.Pressure.Systolic         -1.19075242  0.97887678 -0.2549419          \n",
              "Blood.Pressure.Diastolic         1.18450042 -0.43024036  0.5330648          \n",
              "                                MeanDecreaseGini\n",
              "Age                             226.03444       \n",
              "Sex                              30.00408       \n",
              "Cholesterol                     235.95149       \n",
              "Heart.Rate                      216.88802       \n",
              "Diabetes                         31.08375       \n",
              "Family.History                   34.41555       \n",
              "Smoking                          17.58951       \n",
              "Obesity                          32.90561       \n",
              "Alcohol.Consumption              31.72295       \n",
              "Exercise.Hours.Per.Week         254.86349       \n",
              "Diet                             70.84731       \n",
              "Previous.Heart.Problems          33.29509       \n",
              "Medication.Use                   33.65244       \n",
              "Stress.Level                    247.35471       \n",
              "Sedentary.Hours.Per.Day         256.60811       \n",
              "Income                          258.04411       \n",
              "BMI                             257.34410       \n",
              "Triglycerides                   244.04860       \n",
              "Physical.Activity.Days.Per.Week 131.15871       \n",
              "Sleep.Hours.Per.Day             122.29994       \n",
              "Hemisphere                       31.27655       \n",
              "Blood.Pressure.Systolic         224.50423       \n",
              "Blood.Pressure.Diastolic        203.32221       "
            ]
          },
          "metadata": {},
          "output_type": "display_data"
        },
        {
          "data": {
            "text/html": [
              "<style>\n",
              ".dl-inline {width: auto; margin:0; padding: 0}\n",
              ".dl-inline>dt, .dl-inline>dd {float: none; width: auto; display: inline-block}\n",
              ".dl-inline>dt::after {content: \":\\0020\"; padding-right: .5ex}\n",
              ".dl-inline>dt:not(:first-of-type) {padding-left: .5ex}\n",
              "</style><dl class=dl-inline><dt>Diet</dt><dd>2.69798364519125</dd><dt>Age</dt><dd>1.8249180089269</dd><dt>Obesity</dt><dd>1.59140539127519</dd><dt>Exercise.Hours.Per.Week</dt><dd>1.30602308986935</dd><dt>Medication.Use</dt><dd>0.897933017800348</dd><dt>Blood.Pressure.Diastolic</dt><dd>0.533064825983809</dd><dt>Family.History</dt><dd>0.366582231980459</dd><dt>Previous.Heart.Problems</dt><dd>0.351945947199301</dd><dt>Stress.Level</dt><dd>0.209043363356207</dd><dt>Alcohol.Consumption</dt><dd>0.152877882084954</dd><dt>Physical.Activity.Days.Per.Week</dt><dd>0.124187506164217</dd><dt>Cholesterol</dt><dd>-0.19157803970263</dd><dt>Sedentary.Hours.Per.Day</dt><dd>-0.208118758343727</dd><dt>Heart.Rate</dt><dd>-0.22852756915198</dd><dt>Blood.Pressure.Systolic</dt><dd>-0.254941891124298</dd><dt>Diabetes</dt><dd>-0.507706857695759</dd><dt>Triglycerides</dt><dd>-0.550684758443403</dd><dt>Sleep.Hours.Per.Day</dt><dd>-0.659026310625885</dd><dt>Sex</dt><dd>-0.889124678179927</dd><dt>Hemisphere</dt><dd>-1.15535868449283</dd><dt>BMI</dt><dd>-1.25620830419254</dd><dt>Smoking</dt><dd>-1.43368392268708</dd><dt>Income</dt><dd>-2.39461015157096</dd></dl>\n"
            ],
            "text/latex": [
              "\\begin{description*}\n",
              "\\item[Diet] 2.69798364519125\n",
              "\\item[Age] 1.8249180089269\n",
              "\\item[Obesity] 1.59140539127519\n",
              "\\item[Exercise.Hours.Per.Week] 1.30602308986935\n",
              "\\item[Medication.Use] 0.897933017800348\n",
              "\\item[Blood.Pressure.Diastolic] 0.533064825983809\n",
              "\\item[Family.History] 0.366582231980459\n",
              "\\item[Previous.Heart.Problems] 0.351945947199301\n",
              "\\item[Stress.Level] 0.209043363356207\n",
              "\\item[Alcohol.Consumption] 0.152877882084954\n",
              "\\item[Physical.Activity.Days.Per.Week] 0.124187506164217\n",
              "\\item[Cholesterol] -0.19157803970263\n",
              "\\item[Sedentary.Hours.Per.Day] -0.208118758343727\n",
              "\\item[Heart.Rate] -0.22852756915198\n",
              "\\item[Blood.Pressure.Systolic] -0.254941891124298\n",
              "\\item[Diabetes] -0.507706857695759\n",
              "\\item[Triglycerides] -0.550684758443403\n",
              "\\item[Sleep.Hours.Per.Day] -0.659026310625885\n",
              "\\item[Sex] -0.889124678179927\n",
              "\\item[Hemisphere] -1.15535868449283\n",
              "\\item[BMI] -1.25620830419254\n",
              "\\item[Smoking] -1.43368392268708\n",
              "\\item[Income] -2.39461015157096\n",
              "\\end{description*}\n"
            ],
            "text/markdown": [
              "Diet\n",
              ":   2.69798364519125Age\n",
              ":   1.8249180089269Obesity\n",
              ":   1.59140539127519Exercise.Hours.Per.Week\n",
              ":   1.30602308986935Medication.Use\n",
              ":   0.897933017800348Blood.Pressure.Diastolic\n",
              ":   0.533064825983809Family.History\n",
              ":   0.366582231980459Previous.Heart.Problems\n",
              ":   0.351945947199301Stress.Level\n",
              ":   0.209043363356207Alcohol.Consumption\n",
              ":   0.152877882084954Physical.Activity.Days.Per.Week\n",
              ":   0.124187506164217Cholesterol\n",
              ":   -0.19157803970263Sedentary.Hours.Per.Day\n",
              ":   -0.208118758343727Heart.Rate\n",
              ":   -0.22852756915198Blood.Pressure.Systolic\n",
              ":   -0.254941891124298Diabetes\n",
              ":   -0.507706857695759Triglycerides\n",
              ":   -0.550684758443403Sleep.Hours.Per.Day\n",
              ":   -0.659026310625885Sex\n",
              ":   -0.889124678179927Hemisphere\n",
              ":   -1.15535868449283BMI\n",
              ":   -1.25620830419254Smoking\n",
              ":   -1.43368392268708Income\n",
              ":   -2.39461015157096\n",
              "\n"
            ],
            "text/plain": [
              "                           Diet                             Age \n",
              "                      2.6979836                       1.8249180 \n",
              "                        Obesity         Exercise.Hours.Per.Week \n",
              "                      1.5914054                       1.3060231 \n",
              "                 Medication.Use        Blood.Pressure.Diastolic \n",
              "                      0.8979330                       0.5330648 \n",
              "                 Family.History         Previous.Heart.Problems \n",
              "                      0.3665822                       0.3519459 \n",
              "                   Stress.Level             Alcohol.Consumption \n",
              "                      0.2090434                       0.1528779 \n",
              "Physical.Activity.Days.Per.Week                     Cholesterol \n",
              "                      0.1241875                      -0.1915780 \n",
              "        Sedentary.Hours.Per.Day                      Heart.Rate \n",
              "                     -0.2081188                      -0.2285276 \n",
              "        Blood.Pressure.Systolic                        Diabetes \n",
              "                     -0.2549419                      -0.5077069 \n",
              "                  Triglycerides             Sleep.Hours.Per.Day \n",
              "                     -0.5506848                      -0.6590263 \n",
              "                            Sex                      Hemisphere \n",
              "                     -0.8891247                      -1.1553587 \n",
              "                            BMI                         Smoking \n",
              "                     -1.2562083                      -1.4336839 \n",
              "                         Income \n",
              "                     -2.3946102 "
            ]
          },
          "metadata": {},
          "output_type": "display_data"
        },
        {
          "data": {
            "image/png": "[encoded data removed]",
            "text/plain": [
              "plot without title"
            ]
          },
          "metadata": {
            "image/png": {
              "height": 420,
              "width": 420
            }
          },
          "output_type": "display_data"
        }
      ],
      "source": [
        "#feature importance/selection using random forest\n",
        "# indicates that which variables are important for prediction\n",
        "set.seed(123)\n",
        "control<- trainControl(method = \"cv\", number = 5, verboseIter = FALSE)\n",
        "RF_model <- randomForest(Heart.Attack.Risk~., data = train ,\n",
        "                         rControl = control,\n",
        "                         importance=TRUE,ntree=50)\n",
        "RF_model\n",
        "\n",
        "#Evaluate variable importance\n",
        "importance(RF_model)\n",
        "varImpPlot(RF_model)\n",
        "#Higher the value of mean decrease accuracy or\n",
        "#mean decrease gini score , higher the importance of the variable in the model.\n",
        "\n",
        "importance_RF<-importance(RF_model)\n",
        "sort(importance_RF[,3],decreasing = T)"
      ]
    },
    {
      "cell_type": "code",
      "execution_count": null,
      "metadata": {
        "colab": {
          "base_uri": "https://localhost:8080/",
          "height": 867
        },
        "id": "_O_B1Ja2cKbZ",
        "outputId": "5bff832f-f506-461e-a7f4-4f1a61b7b06b",
        "vscode": {
          "languageId": "r"
        }
      },
      "outputs": [
        {
          "data": {
            "text/plain": [
              "\n",
              "Call:\n",
              "glm(formula = Heart.Attack.Risk ~ ., family = binomial, data = train)\n",
              "\n",
              "Coefficients:\n",
              "                                  Estimate Std. Error z value Pr(>|z|)  \n",
              "(Intercept)                     -7.797e-01  3.221e-01  -2.421   0.0155 *\n",
              "Age                              6.623e-04  1.323e-03   0.501   0.6166  \n",
              "SexMale                          6.657e-02  6.532e-02   1.019   0.3081  \n",
              "Cholesterol                      4.932e-04  3.102e-04   1.590   0.1118  \n",
              "Heart.Rate                      -9.181e-04  1.214e-03  -0.756   0.4494  \n",
              "Diabetes1                        7.661e-02  5.271e-02   1.453   0.1461  \n",
              "Family.History1                 -1.941e-02  5.007e-02  -0.388   0.6984  \n",
              "Smoking1                        -5.048e-02  1.069e-01  -0.472   0.6367  \n",
              "Obesity1                        -9.192e-02  5.006e-02  -1.836   0.0664 .\n",
              "Alcohol.Consumption1            -5.248e-02  5.095e-02  -1.030   0.3030  \n",
              "Exercise.Hours.Per.Week          6.935e-03  4.344e-03   1.596   0.1104  \n",
              "DietHealthy                      4.682e-02  6.109e-02   0.766   0.4435  \n",
              "DietUnhealthy                    2.228e-02  6.156e-02   0.362   0.7175  \n",
              "Previous.Heart.Problems1         2.283e-02  5.000e-02   0.457   0.6480  \n",
              "Medication.Use1                 -3.428e-02  5.007e-02  -0.685   0.4936  \n",
              "Stress.Level2                    5.936e-02  1.113e-01   0.533   0.5939  \n",
              "Stress.Level3                    8.902e-02  1.135e-01   0.784   0.4330  \n",
              "Stress.Level4                   -9.439e-02  1.136e-01  -0.831   0.4060  \n",
              "Stress.Level5                    8.796e-02  1.128e-01   0.779   0.4357  \n",
              "Stress.Level6                    9.653e-02  1.138e-01   0.848   0.3963  \n",
              "Stress.Level7                    1.583e-01  1.120e-01   1.414   0.1574  \n",
              "Stress.Level8                    1.021e-02  1.139e-01   0.090   0.9286  \n",
              "Stress.Level9                   -7.382e-02  1.143e-01  -0.646   0.5185  \n",
              "Stress.Level10                   6.519e-02  1.152e-01   0.566   0.5715  \n",
              "Sedentary.Hours.Per.Day         -7.824e-03  7.223e-03  -1.083   0.2788  \n",
              "Income                           2.284e-07  3.115e-07   0.733   0.4634  \n",
              "BMI                              5.275e-03  3.961e-03   1.332   0.1830  \n",
              "Triglycerides                    7.432e-05  1.119e-04   0.664   0.5064  \n",
              "Physical.Activity.Days.Per.Week -6.950e-03  1.095e-02  -0.635   0.5256  \n",
              "Sleep.Hours.Per.Day             -1.921e-02  1.259e-02  -1.526   0.1270  \n",
              "HemisphereSouthern Hemisphere   -7.504e-02  5.253e-02  -1.428   0.1532  \n",
              "Blood.Pressure.Systolic          1.420e-03  9.457e-04   1.502   0.1332  \n",
              "Blood.Pressure.Diastolic        -2.011e-03  1.710e-03  -1.176   0.2395  \n",
              "---\n",
              "Signif. codes:  0 ‘***’ 0.001 ‘**’ 0.01 ‘*’ 0.05 ‘.’ 0.1 ‘ ’ 1\n",
              "\n",
              "(Dispersion parameter for binomial family taken to be 1)\n",
              "\n",
              "    Null deviance: 9149.3  on 7011  degrees of freedom\n",
              "Residual deviance: 9113.0  on 6979  degrees of freedom\n",
              "AIC: 9179\n",
              "\n",
              "Number of Fisher Scoring iterations: 4\n"
            ]
          },
          "metadata": {},
          "output_type": "display_data"
        }
      ],
      "source": [
        "###run a logistic regression with all features\n",
        "model_glm<-glm(Heart.Attack.Risk~. , family=binomial, data=train)\n",
        "summary(model_glm)\n",
        "#feature with p<0.05 are important.\n",
        "#see that ‘Age ’,is significance  variable in the base model.\n",
        "#It’s surprising to see that neither ‘cholesterol’ nor ‘blood pressure’ have any significance in the base model.\n"
      ]
    },
    {
      "cell_type": "code",
      "execution_count": null,
      "metadata": {
        "colab": {
          "base_uri": "https://localhost:8080/",
          "height": 34
        },
        "id": "1ShGRv5dcKbZ",
        "outputId": "fbb6beed-bdd7-4223-f4dd-ddd18644374e",
        "vscode": {
          "languageId": "r"
        }
      },
      "outputs": [
        {
          "data": {
            "text/html": [
              "0.599086236436322"
            ],
            "text/latex": [
              "0.599086236436322"
            ],
            "text/markdown": [
              "0.599086236436322"
            ],
            "text/plain": [
              "[1] 0.5990862"
            ]
          },
          "metadata": {},
          "output_type": "display_data"
        }
      ],
      "source": [
        "# Predicting on test data\n",
        "probabilities <- model_glm %>% predict(test[,-22], type = \"response\")\n",
        "predicted.classes <- ifelse(probabilities > 0.4, \"1\", \"0\")\n",
        "\n",
        "# Model accuracy\n",
        "mean(predicted.classes == test$Heart.Attack.Risk)\n",
        "# classification prediction accuracy is about 64%, which is not good. The misclassification error rate is 36%.\n"
      ]
    },
    {
      "cell_type": "code",
      "execution_count": null,
      "metadata": {
        "colab": {
          "base_uri": "https://localhost:8080/",
          "height": 104
        },
        "id": "um9U-7OPcKba",
        "outputId": "77e0182b-c939-4aeb-9b2f-b220c7cdcaab",
        "vscode": {
          "languageId": "r"
        }
      },
      "outputs": [
        {
          "data": {
            "text/plain": [
              "                 \n",
              "predicted.classes   0   1\n",
              "                0 991 569\n",
              "                1 133  58"
            ]
          },
          "metadata": {},
          "output_type": "display_data"
        },
        {
          "data": {
            "text/html": [
              "0.599086236436322"
            ],
            "text/latex": [
              "0.599086236436322"
            ],
            "text/markdown": [
              "0.599086236436322"
            ],
            "text/plain": [
              "[1] 0.5990862"
            ]
          },
          "metadata": {},
          "output_type": "display_data"
        }
      ],
      "source": [
        "#looking at confusion matrix\n",
        "table(predicted.classes, test$Heart.Attack.Risk)\n",
        "\n",
        "accuracy <- table(predicted.classes ,test[,22])\n",
        "sum(diag(accuracy))/sum(accuracy)\n",
        "# Accuracy :0.6122"
      ]
    },
    {
      "cell_type": "markdown",
      "metadata": {
        "id": "bEhJUdsqcKba"
      },
      "source": [
        "- Confusion Matrix, plot"
      ]
    },
    {
      "cell_type": "code",
      "execution_count": null,
      "metadata": {
        "colab": {
          "base_uri": "https://localhost:8080/",
          "height": 454
        },
        "id": "2zy4yv6pcKbb",
        "outputId": "e8cb1c0f-f090-470c-d75f-612a98e383aa",
        "vscode": {
          "languageId": "r"
        }
      },
      "outputs": [
        {
          "name": "stdout",
          "output_type": "stream",
          "text": [
            "Accuracy: 0.5990862 \n"
          ]
        },
        {
          "data": {
            "image/png": "[encoded data removed]",
            "text/plain": [
              "plot without title"
            ]
          },
          "metadata": {
            "image/png": {
              "height": 420,
              "width": 420
            }
          },
          "output_type": "display_data"
        }
      ],
      "source": [
        "cm <- table(Predicted = predicted.classes, Actual = test$Heart.Attack.Risk)\n",
        "\n",
        "# Convert the matrix to a data frame for plotting\n",
        "cm_df <- as.data.frame(as.table(cm))\n",
        "\n",
        "# Calculate Accuracy\n",
        "accuracy <- sum(diag(cm)) / sum(cm)\n",
        "\n",
        "# Output accuracy\n",
        "cat(\"Accuracy:\", accuracy, \"\\n\")\n",
        "\n",
        "# Plotting the confusion matrix\n",
        "ggplot(cm_df, aes(x = Actual, y = Predicted, fill = Freq)) +\n",
        "    geom_tile() +\n",
        "    geom_text(aes(label = Freq), vjust = 1) +\n",
        "    scale_fill_gradient(low = \"white\", high = \"steelblue\") +\n",
        "    labs(title = \"Confusion Matrix, Logistic Regression\", subtitle = paste(\"Accuracy:\", round(accuracy, 4)),\n",
        "         x = \"Actual Values\",\n",
        "         y = \"Predicted Values\") +\n",
        "    theme_minimal() +\n",
        "    theme(axis.text.x = element_text(angle = 45, hjust = 1))"
      ]
    },
    {
      "cell_type": "markdown",
      "metadata": {
        "id": "Q2htniVZcKbb"
      },
      "source": [
        "## ROC.l.g"
      ]
    },
    {
      "cell_type": "code",
      "execution_count": null,
      "metadata": {
        "colab": {
          "base_uri": "https://localhost:8080/",
          "height": 715
        },
        "id": "kZHF7XflcKbc",
        "outputId": "10a8a78e-dc2c-48d1-b1c6-b05d46913e95",
        "vscode": {
          "languageId": "r"
        }
      },
      "outputs": [
        {
          "name": "stderr",
          "output_type": "stream",
          "text": [
            "Type 'citation(\"pROC\")' for a citation.\n",
            "\n",
            "\n",
            "Attaching package: ‘pROC’\n",
            "\n",
            "\n",
            "The following objects are masked from ‘package:stats’:\n",
            "\n",
            "    cov, smooth, var\n",
            "\n",
            "\n",
            "Setting levels: control = FALSE, case = TRUE\n",
            "\n",
            "Setting direction: controls > cases\n",
            "\n"
          ]
        },
        {
          "data": {
            "text/plain": [
              "NULL"
            ]
          },
          "metadata": {},
          "output_type": "display_data"
        },
        {
          "data": {
            "image/png": "[encoded data removed]",
            "text/plain": [
              "plot without title"
            ]
          },
          "metadata": {
            "image/png": {
              "height": 420,
              "width": 420
            }
          },
          "output_type": "display_data"
        }
      ],
      "source": [
        "library(pROC)\n",
        "plot.roc(x = test$Heart.Attack.Risk== \"1\", pred = probabilities)$roc.vol"
      ]
    },
    {
      "cell_type": "markdown",
      "metadata": {
        "id": "qdEHaEPncKbc"
      },
      "source": [
        "## Support Vector Machines"
      ]
    },
    {
      "cell_type": "code",
      "execution_count": null,
      "metadata": {
        "colab": {
          "base_uri": "https://localhost:8080/",
          "height": 486
        },
        "id": "pIkCWD_rcKbc",
        "outputId": "dae0460f-82a1-4be4-cd9e-4bc1f19e5ce5",
        "vscode": {
          "languageId": "r"
        }
      },
      "outputs": [
        {
          "data": {
            "text/plain": [
              "Confusion Matrix and Statistics\n",
              "\n",
              "          Reference\n",
              "Prediction    0    1\n",
              "         0    0    0\n",
              "         1 1124  627\n",
              "                                         \n",
              "               Accuracy : 0.3581         \n",
              "                 95% CI : (0.3356, 0.381)\n",
              "    No Information Rate : 0.6419         \n",
              "    P-Value [Acc > NIR] : 1              \n",
              "                                         \n",
              "                  Kappa : 0              \n",
              "                                         \n",
              " Mcnemar's Test P-Value : <2e-16         \n",
              "                                         \n",
              "            Sensitivity : 0.0000         \n",
              "            Specificity : 1.0000         \n",
              "         Pos Pred Value :    NaN         \n",
              "         Neg Pred Value : 0.3581         \n",
              "             Prevalence : 0.6419         \n",
              "         Detection Rate : 0.0000         \n",
              "   Detection Prevalence : 0.0000         \n",
              "      Balanced Accuracy : 0.5000         \n",
              "                                         \n",
              "       'Positive' Class : 0              \n",
              "                                         "
            ]
          },
          "metadata": {},
          "output_type": "display_data"
        }
      ],
      "source": [
        "set.seed(860)\n",
        "library(e1071)\n",
        "library(caret)\n",
        "\n",
        "# Assuming 'Heart.Attack.Risk' is the response variable in your dataset\n",
        "# Manually set class weights\n",
        "custom_class_weights <- c(\"0\" = 0.3, \"1\" = 1)\n",
        "\n",
        "# Fit SVM model with custom class weights\n",
        "svm_model <- svm(Heart.Attack.Risk ~ .,\n",
        "                 data = train,\n",
        "                 type = \"C-classification\",\n",
        "                 kernel = \"linear\",\n",
        "                 class.weights = custom_class_weights)\n",
        "\n",
        "# Make predictions on the test set\n",
        "y_pred <- predict(svm_model, newdata = test[-22])\n",
        "\n",
        "# Evaluate the model\n",
        "confusionMatrix(y_pred, test$Heart.Attack.Risk)\n"
      ]
    },
    {
      "cell_type": "code",
      "execution_count": null,
      "metadata": {
        "colab": {
          "base_uri": "https://localhost:8080/",
          "height": 34
        },
        "id": "qp8RqczMpoU2",
        "outputId": "def9ee4e-f84c-4808-d1e5-c22aba038747",
        "vscode": {
          "languageId": "r"
        }
      },
      "outputs": [
        {
          "data": {
            "text/html": [
              "0.1"
            ],
            "text/latex": [
              "0.1"
            ],
            "text/markdown": [
              "0.1"
            ],
            "text/plain": [
              "[1] 0.1"
            ]
          },
          "metadata": {},
          "output_type": "display_data"
        }
      ],
      "source": [
        "class_weights[2]"
      ]
    },
    {
      "cell_type": "markdown",
      "metadata": {
        "id": "LI-y4vGfcKbd"
      },
      "source": [
        "Confusion Matrix, SVM model"
      ]
    },
    {
      "cell_type": "code",
      "execution_count": null,
      "metadata": {
        "colab": {
          "base_uri": "https://localhost:8080/",
          "height": 454
        },
        "id": "kowAnGe3cKbd",
        "outputId": "1ee090f0-a608-4869-c94d-6b2416d69fb8",
        "vscode": {
          "languageId": "r"
        }
      },
      "outputs": [
        {
          "name": "stdout",
          "output_type": "stream",
          "text": [
            "Accuracy: 0.6419189 \n"
          ]
        },
        {
          "data": {
            "image/png": "[encoded data removed]",
            "text/plain": [
              "plot without title"
            ]
          },
          "metadata": {
            "image/png": {
              "height": 420,
              "width": 420
            }
          },
          "output_type": "display_data"
        }
      ],
      "source": [
        "set.seed(860)\n",
        "svm_model <- svm(Heart.Attack.Risk ~ ., data = train, type = \"C-classification\", kernel = \"linear\")\n",
        "y_pred <- predict(svm_model, newdata = test[-22])\n",
        "\n",
        "# Generating the confusion matrix\n",
        "cm <- confusionMatrix(test[, 22], y_pred)\n",
        "\n",
        "# Extracting the table from the confusion matrix\n",
        "cm_table <- cm$table\n",
        "\n",
        "# Convert the matrix to a data frame for plotting\n",
        "cm_df <- as.data.frame(as.table(cm_table))\n",
        "colnames(cm_df) <- c(\"Actual\", \"Predicted\", \"Freq\")\n",
        "\n",
        "# Calculate Accuracy\n",
        "accuracy <- sum(diag(cm_table)) / sum(cm_table)\n",
        "\n",
        "# Output accuracy\n",
        "cat(\"Accuracy:\", accuracy, \"\\n\")\n",
        "\n",
        "# Plotting the confusion matrix\n",
        "ggplot(cm_df, aes(x = Actual, y = Predicted, fill = Freq)) +\n",
        "    geom_tile() +\n",
        "    geom_text(aes(label = Freq), vjust = 1) +\n",
        "    scale_fill_gradient(low = \"white\", high = \"steelblue\") +\n",
        "    labs(title = \"Confusion Matrix - SVM Model\",\n",
        "         subtitle = paste(\"Accuracy:\", round(accuracy, 4)),\n",
        "         x = \"Predicted Values\",\n",
        "         y = \"Actual Values\") +\n",
        "    theme_minimal() +\n",
        "    theme(axis.text.x = element_text(angle = 45, hjust = 1))"
      ]
    },
    {
      "cell_type": "code",
      "execution_count": null,
      "metadata": {
        "id": "m_AXu58cooID",
        "vscode": {
          "languageId": "r"
        }
      },
      "outputs": [],
      "source": []
    }
  ],
  "metadata": {
    "colab": {
      "provenance": []
    },
    "kernelspec": {
      "display_name": "R",
      "language": "R",
      "name": "ir"
    },
    "language_info": {
      "codemirror_mode": "r",
      "file_extension": ".r",
      "mimetype": "text/x-r-source",
      "name": "R",
      "pygments_lexer": "r",
      "version": "4.3.2"
    }
  },
  "nbformat": 4,
  "nbformat_minor": 0
}
